{
 "cells": [
  {
   "cell_type": "markdown",
   "id": "ab5b9815",
   "metadata": {},
   "source": [
    "# import, DB 연결"
   ]
  },
  {
   "cell_type": "code",
   "execution_count": 508,
   "id": "d4170aa5",
   "metadata": {},
   "outputs": [],
   "source": [
    "import pymysql\n",
    "import pandas as pd\n",
    "import numpy as np\n",
    "from functools import reduce\n",
    "\n",
    "%matplotlib inline\n",
    "import matplotlib.pyplot as plt\n",
    "import seaborn as sns\n",
    "\n",
    "pd.set_option('display.max_seq_items', None)"
   ]
  },
  {
   "cell_type": "code",
   "execution_count": 348,
   "id": "3e8245b1",
   "metadata": {},
   "outputs": [],
   "source": [
    "con = pymysql.connect(host='127.0.0.1'\\\n",
    "                      ,user = 'root'\\\n",
    "                      ,password = ''\\\n",
    "                      ,db='rome_test'\\\n",
    "                      ,charset='utf8'\n",
    "                     )"
   ]
  },
  {
   "cell_type": "code",
   "execution_count": 4,
   "id": "78842731",
   "metadata": {},
   "outputs": [],
   "source": [
    "#con.close() # 연결 종료"
   ]
  },
  {
   "cell_type": "markdown",
   "id": "8e0e28c5",
   "metadata": {},
   "source": [
    "# 기본정보"
   ]
  },
  {
   "cell_type": "markdown",
   "id": "4ae79178",
   "metadata": {},
   "source": [
    "* 제외 조건\n",
    "    * scc_doll 테이블에서 host_user_id 값이 '테스트계정정보' 시트에 있는 값과 일치하는 경우, 테스트 계정에서 생성된 데이터이므로 분석에서 제외함. \n",
    "    * scc_user 테이블에서 기관코드가 없는 사용자는 분석에서 제외 (where agency_code ='')\n",
    "    * 유효데이터 기간 범위는 2019.04 ~ 2021.05으로, 해당 기간 이외 레코드는 더미/테스트 데이터를 포함하므로 분석에서 제외하는 것을 권장함.\n",
    "    * 설문데이터 내 id, id_guro 컬럼 중 6자리로 구성된 값을 Key 값으로 하여 데이터베이스의 host_user_id 값과 매핑함."
   ]
  },
  {
   "cell_type": "code",
   "execution_count": 15,
   "id": "9e378bec",
   "metadata": {},
   "outputs": [],
   "source": [
    "table_list = ['scc_doll'\n",
    ",'scc_doll_option'\n",
    ",'scc_agency'\n",
    ",'scc_user'\n",
    ",'scc_user_doll_group'\n",
    "]"
   ]
  },
  {
   "cell_type": "code",
   "execution_count": 16,
   "id": "654e7775",
   "metadata": {},
   "outputs": [],
   "source": [
    "df_list = []\n",
    "for i in table_list:\n",
    "    sql = 'select * from {}'.format(i)\n",
    "    globals()[i] = pd.read_sql(sql, con)\n",
    "    df_list.append(globals()[i])"
   ]
  },
  {
   "cell_type": "markdown",
   "id": "dffb55c1",
   "metadata": {},
   "source": [
    "## scc_user"
   ]
  },
  {
   "cell_type": "markdown",
   "id": "3349dc65",
   "metadata": {},
   "source": [
    "id는 user id"
   ]
  },
  {
   "cell_type": "code",
   "execution_count": 398,
   "id": "e578ef72",
   "metadata": {},
   "outputs": [],
   "source": [
    "df_scc_user = scc_user.copy()"
   ]
  },
  {
   "cell_type": "code",
   "execution_count": 399,
   "id": "dc3c443f",
   "metadata": {},
   "outputs": [
    {
     "data": {
      "text/html": [
       "<div>\n",
       "<style scoped>\n",
       "    .dataframe tbody tr th:only-of-type {\n",
       "        vertical-align: middle;\n",
       "    }\n",
       "\n",
       "    .dataframe tbody tr th {\n",
       "        vertical-align: top;\n",
       "    }\n",
       "\n",
       "    .dataframe thead th {\n",
       "        text-align: right;\n",
       "    }\n",
       "</style>\n",
       "<table border=\"1\" class=\"dataframe\">\n",
       "  <thead>\n",
       "    <tr style=\"text-align: right;\">\n",
       "      <th></th>\n",
       "      <th>id</th>\n",
       "      <th>userID</th>\n",
       "      <th>password</th>\n",
       "      <th>name</th>\n",
       "      <th>phoneNum</th>\n",
       "      <th>push_instance_id</th>\n",
       "      <th>is_resign</th>\n",
       "      <th>pic_file_name</th>\n",
       "      <th>alarm_emergency</th>\n",
       "      <th>alarm_low_bettery</th>\n",
       "      <th>alarm_disconnect</th>\n",
       "      <th>agency_code</th>\n",
       "      <th>alarm_emergency_call</th>\n",
       "      <th>alarm_high_temp</th>\n",
       "      <th>reg_date</th>\n",
       "    </tr>\n",
       "  </thead>\n",
       "  <tbody>\n",
       "    <tr>\n",
       "      <th>903</th>\n",
       "      <td>8907</td>\n",
       "      <td>b'v\\x08\\x88\\xb6\\x80\\xbbZ\\xaf\\\\7v\\xd2?\\xb9\\x19\\...</td>\n",
       "      <td>b'\\xcd2$\\x10qQ=}\\x04\\x9b\\xb9\\x14E\\x16\\x11*'</td>\n",
       "      <td>b'#\\x9bvi\\xe8\\t\\xc1\\xdc\\xb2o\\x1e\\xef\\xfb\\xa9!\\...</td>\n",
       "      <td>b'\\xc6\\x06tM\\x0b\\xb6\\x88\\xb9\\xa9;\\xb4nW\\r\\xf0\\...</td>\n",
       "      <td>5703e1b462ea4ca5aa0e8aa3b043fa7877b58e9cec013e...</td>\n",
       "      <td>1</td>\n",
       "      <td>None</td>\n",
       "      <td>1</td>\n",
       "      <td>1</td>\n",
       "      <td>0</td>\n",
       "      <td>000000000001</td>\n",
       "      <td>1</td>\n",
       "      <td>1</td>\n",
       "      <td>2021-03-16 14:38:19</td>\n",
       "    </tr>\n",
       "    <tr>\n",
       "      <th>1232</th>\n",
       "      <td>8238</td>\n",
       "      <td>b'\\xcc5O\\xc0\\x90\\xfa(\\x08]C`\\x9c\\x92\\xeb\\xd0\\\\'</td>\n",
       "      <td>b\"_\\x11\\xc9'&gt;6SWI\\xe6Wk\\xbf\\x1d\\xbfw\"</td>\n",
       "      <td>b'\\xad\\xd0t\\x07F6\\xa7\\x0fg\\r\\xa2\\x8e\\x072v{'</td>\n",
       "      <td>b'\\nUP\\xe9\\x9d\\xfd\\xefF\\x8a\\x938\\xe9reM\\x8f'</td>\n",
       "      <td>dWzzixctKEs:APA91bHpWZK02rXmGwLWe1GY90nsVmwdUq...</td>\n",
       "      <td>0</td>\n",
       "      <td>None</td>\n",
       "      <td>1</td>\n",
       "      <td>1</td>\n",
       "      <td>0</td>\n",
       "      <td>000000000001</td>\n",
       "      <td>1</td>\n",
       "      <td>1</td>\n",
       "      <td>2020-11-25 10:41:40</td>\n",
       "    </tr>\n",
       "    <tr>\n",
       "      <th>1391</th>\n",
       "      <td>8406</td>\n",
       "      <td>b')\\xb2-vz\\x05\\x1e\\xb6\\x8e5\\xd8#\\xad\\xd3.\\xc2'</td>\n",
       "      <td>b':Cp;U\\xd4\\xd2\\x175\\xa7\\xa5\\xad)\\xee\\xdf\\xde'</td>\n",
       "      <td>b\"\\x91\\x08\\x19\\xf0\\x1d\\x87\\xa3C\\xad\\xd2\\xde\\x0...</td>\n",
       "      <td>b'\\xe6c\\xb7\\x8f\\x87\"\\xbbt\\xc9\\xab\\'\\x0e\\x17\\x1...</td>\n",
       "      <td>ad2fff587c944776c628ecb7aee0a5a3f949328bd2904a...</td>\n",
       "      <td>1</td>\n",
       "      <td>None</td>\n",
       "      <td>1</td>\n",
       "      <td>0</td>\n",
       "      <td>0</td>\n",
       "      <td>043011002005</td>\n",
       "      <td>0</td>\n",
       "      <td>1</td>\n",
       "      <td>2020-11-25 10:41:40</td>\n",
       "    </tr>\n",
       "  </tbody>\n",
       "</table>\n",
       "</div>"
      ],
      "text/plain": [
       "        id                                             userID  \\\n",
       "903   8907  b'v\\x08\\x88\\xb6\\x80\\xbbZ\\xaf\\\\7v\\xd2?\\xb9\\x19\\...   \n",
       "1232  8238    b'\\xcc5O\\xc0\\x90\\xfa(\\x08]C`\\x9c\\x92\\xeb\\xd0\\\\'   \n",
       "1391  8406     b')\\xb2-vz\\x05\\x1e\\xb6\\x8e5\\xd8#\\xad\\xd3.\\xc2'   \n",
       "\n",
       "                                            password  \\\n",
       "903      b'\\xcd2$\\x10qQ=}\\x04\\x9b\\xb9\\x14E\\x16\\x11*'   \n",
       "1232           b\"_\\x11\\xc9'>6SWI\\xe6Wk\\xbf\\x1d\\xbfw\"   \n",
       "1391  b':Cp;U\\xd4\\xd2\\x175\\xa7\\xa5\\xad)\\xee\\xdf\\xde'   \n",
       "\n",
       "                                                   name  \\\n",
       "903   b'#\\x9bvi\\xe8\\t\\xc1\\xdc\\xb2o\\x1e\\xef\\xfb\\xa9!\\...   \n",
       "1232       b'\\xad\\xd0t\\x07F6\\xa7\\x0fg\\r\\xa2\\x8e\\x072v{'   \n",
       "1391  b\"\\x91\\x08\\x19\\xf0\\x1d\\x87\\xa3C\\xad\\xd2\\xde\\x0...   \n",
       "\n",
       "                                               phoneNum  \\\n",
       "903   b'\\xc6\\x06tM\\x0b\\xb6\\x88\\xb9\\xa9;\\xb4nW\\r\\xf0\\...   \n",
       "1232       b'\\nUP\\xe9\\x9d\\xfd\\xefF\\x8a\\x938\\xe9reM\\x8f'   \n",
       "1391  b'\\xe6c\\xb7\\x8f\\x87\"\\xbbt\\xc9\\xab\\'\\x0e\\x17\\x1...   \n",
       "\n",
       "                                       push_instance_id  is_resign  \\\n",
       "903   5703e1b462ea4ca5aa0e8aa3b043fa7877b58e9cec013e...          1   \n",
       "1232  dWzzixctKEs:APA91bHpWZK02rXmGwLWe1GY90nsVmwdUq...          0   \n",
       "1391  ad2fff587c944776c628ecb7aee0a5a3f949328bd2904a...          1   \n",
       "\n",
       "     pic_file_name  alarm_emergency  alarm_low_bettery  alarm_disconnect  \\\n",
       "903           None                1                  1                 0   \n",
       "1232          None                1                  1                 0   \n",
       "1391          None                1                  0                 0   \n",
       "\n",
       "       agency_code  alarm_emergency_call  alarm_high_temp            reg_date  \n",
       "903   000000000001                     1                1 2021-03-16 14:38:19  \n",
       "1232  000000000001                     1                1 2020-11-25 10:41:40  \n",
       "1391  043011002005                     0                1 2020-11-25 10:41:40  "
      ]
     },
     "execution_count": 399,
     "metadata": {},
     "output_type": "execute_result"
    }
   ],
   "source": [
    "df_scc_user.sample(3)"
   ]
  },
  {
   "cell_type": "code",
   "execution_count": 400,
   "id": "20aad12c",
   "metadata": {},
   "outputs": [
    {
     "data": {
      "text/plain": [
       "(2132, 15)"
      ]
     },
     "execution_count": 400,
     "metadata": {},
     "output_type": "execute_result"
    }
   ],
   "source": [
    "df_scc_user.shape"
   ]
  },
  {
   "cell_type": "code",
   "execution_count": 401,
   "id": "0de51dee",
   "metadata": {},
   "outputs": [
    {
     "name": "stdout",
     "output_type": "stream",
     "text": [
      "<class 'pandas.core.frame.DataFrame'>\n",
      "RangeIndex: 2132 entries, 0 to 2131\n",
      "Data columns (total 15 columns):\n",
      " #   Column                Non-Null Count  Dtype         \n",
      "---  ------                --------------  -----         \n",
      " 0   id                    2132 non-null   int64         \n",
      " 1   userID                2132 non-null   object        \n",
      " 2   password              2132 non-null   object        \n",
      " 3   name                  2132 non-null   object        \n",
      " 4   phoneNum              2132 non-null   object        \n",
      " 5   push_instance_id      2069 non-null   object        \n",
      " 6   is_resign             2132 non-null   int64         \n",
      " 7   pic_file_name         129 non-null    object        \n",
      " 8   alarm_emergency       2132 non-null   int64         \n",
      " 9   alarm_low_bettery     2132 non-null   int64         \n",
      " 10  alarm_disconnect      2132 non-null   int64         \n",
      " 11  agency_code           2132 non-null   object        \n",
      " 12  alarm_emergency_call  2132 non-null   int64         \n",
      " 13  alarm_high_temp       2132 non-null   int64         \n",
      " 14  reg_date              2132 non-null   datetime64[ns]\n",
      "dtypes: datetime64[ns](1), int64(7), object(7)\n",
      "memory usage: 250.0+ KB\n"
     ]
    }
   ],
   "source": [
    "df_scc_user.info()"
   ]
  },
  {
   "cell_type": "markdown",
   "id": "da381c48",
   "metadata": {},
   "source": [
    "* 테스트 데이터 제거 : agency_code == '' 제거"
   ]
  },
  {
   "cell_type": "code",
   "execution_count": 402,
   "id": "0b922935",
   "metadata": {},
   "outputs": [],
   "source": [
    "# 제외할 user 조건 : 'agency_code'] == ''\n",
    "user_list = list(df_scc_user[df_scc_user['agency_code'] == '']['id'])"
   ]
  },
  {
   "cell_type": "code",
   "execution_count": 403,
   "id": "02b183ac",
   "metadata": {},
   "outputs": [],
   "source": [
    "# ''user 제거하고 정상만 남기기\n",
    "df_scc_user = df_scc_user[df_scc_user['agency_code'] != '']"
   ]
  },
  {
   "cell_type": "code",
   "execution_count": 404,
   "id": "09adf765",
   "metadata": {},
   "outputs": [
    {
     "data": {
      "text/plain": [
       "(2088, 15)"
      ]
     },
     "execution_count": 404,
     "metadata": {},
     "output_type": "execute_result"
    }
   ],
   "source": [
    "df_scc_user.shape"
   ]
  },
  {
   "cell_type": "code",
   "execution_count": 405,
   "id": "201823f1",
   "metadata": {},
   "outputs": [
    {
     "data": {
      "text/plain": [
       "Index(['id', 'userID', 'password', 'name', 'phoneNum', 'push_instance_id',\n",
       "       'is_resign', 'pic_file_name', 'alarm_emergency', 'alarm_low_bettery',\n",
       "       'alarm_disconnect', 'agency_code', 'alarm_emergency_call',\n",
       "       'alarm_high_temp', 'reg_date'],\n",
       "      dtype='object')"
      ]
     },
     "execution_count": 405,
     "metadata": {},
     "output_type": "execute_result"
    }
   ],
   "source": [
    "df_scc_user.columns"
   ]
  },
  {
   "cell_type": "code",
   "execution_count": 406,
   "id": "9e98589a",
   "metadata": {},
   "outputs": [],
   "source": [
    "# 분석에 사용한 컬럼\n",
    "scc_user_y_col = ['id', 'is_resign', 'agency_code']"
   ]
  },
  {
   "cell_type": "code",
   "execution_count": 407,
   "id": "d4432f09",
   "metadata": {},
   "outputs": [],
   "source": [
    "df_scc_user = df_scc_user[scc_user_y_col]"
   ]
  },
  {
   "cell_type": "code",
   "execution_count": 408,
   "id": "41543c1b",
   "metadata": {},
   "outputs": [],
   "source": [
    "# 컬럼 이름 바꾸기\n",
    "df_scc_user.rename(columns={'id':'host_user_id'}, inplace=True)"
   ]
  },
  {
   "cell_type": "code",
   "execution_count": 409,
   "id": "7b6a4e02",
   "metadata": {},
   "outputs": [
    {
     "data": {
      "text/html": [
       "<div>\n",
       "<style scoped>\n",
       "    .dataframe tbody tr th:only-of-type {\n",
       "        vertical-align: middle;\n",
       "    }\n",
       "\n",
       "    .dataframe tbody tr th {\n",
       "        vertical-align: top;\n",
       "    }\n",
       "\n",
       "    .dataframe thead th {\n",
       "        text-align: right;\n",
       "    }\n",
       "</style>\n",
       "<table border=\"1\" class=\"dataframe\">\n",
       "  <thead>\n",
       "    <tr style=\"text-align: right;\">\n",
       "      <th></th>\n",
       "      <th>host_user_id</th>\n",
       "      <th>is_resign</th>\n",
       "      <th>agency_code</th>\n",
       "    </tr>\n",
       "  </thead>\n",
       "  <tbody>\n",
       "    <tr>\n",
       "      <th>1888</th>\n",
       "      <td>8936</td>\n",
       "      <td>0</td>\n",
       "      <td>000000000001</td>\n",
       "    </tr>\n",
       "    <tr>\n",
       "      <th>193</th>\n",
       "      <td>7271</td>\n",
       "      <td>1</td>\n",
       "      <td>9</td>\n",
       "    </tr>\n",
       "    <tr>\n",
       "      <th>1531</th>\n",
       "      <td>8729</td>\n",
       "      <td>0</td>\n",
       "      <td>000000000001</td>\n",
       "    </tr>\n",
       "  </tbody>\n",
       "</table>\n",
       "</div>"
      ],
      "text/plain": [
       "      host_user_id  is_resign   agency_code\n",
       "1888          8936          0  000000000001\n",
       "193           7271          1             9\n",
       "1531          8729          0  000000000001"
      ]
     },
     "execution_count": 409,
     "metadata": {},
     "output_type": "execute_result"
    }
   ],
   "source": [
    "df_scc_user.sample(3)"
   ]
  },
  {
   "cell_type": "markdown",
   "id": "14f6403f",
   "metadata": {},
   "source": [
    "## scc_agency"
   ]
  },
  {
   "cell_type": "code",
   "execution_count": 389,
   "id": "bbbf4a73",
   "metadata": {},
   "outputs": [],
   "source": [
    "df_scc_agency = scc_agency.copy()"
   ]
  },
  {
   "cell_type": "code",
   "execution_count": 390,
   "id": "8a753664",
   "metadata": {
    "scrolled": true
   },
   "outputs": [
    {
     "data": {
      "text/html": [
       "<div>\n",
       "<style scoped>\n",
       "    .dataframe tbody tr th:only-of-type {\n",
       "        vertical-align: middle;\n",
       "    }\n",
       "\n",
       "    .dataframe tbody tr th {\n",
       "        vertical-align: top;\n",
       "    }\n",
       "\n",
       "    .dataframe thead th {\n",
       "        text-align: right;\n",
       "    }\n",
       "</style>\n",
       "<table border=\"1\" class=\"dataframe\">\n",
       "  <thead>\n",
       "    <tr style=\"text-align: right;\">\n",
       "      <th></th>\n",
       "      <th>id</th>\n",
       "      <th>name</th>\n",
       "      <th>phone</th>\n",
       "      <th>address</th>\n",
       "      <th>email</th>\n",
       "    </tr>\n",
       "  </thead>\n",
       "  <tbody>\n",
       "    <tr>\n",
       "      <th>86</th>\n",
       "      <td>211126003001</td>\n",
       "      <td>서울 의료원</td>\n",
       "      <td>None</td>\n",
       "      <td>None</td>\n",
       "      <td>None</td>\n",
       "    </tr>\n",
       "    <tr>\n",
       "      <th>13</th>\n",
       "      <td>014833001001</td>\n",
       "      <td>양산시청 사회복지과</td>\n",
       "      <td>None</td>\n",
       "      <td>None</td>\n",
       "      <td>None</td>\n",
       "    </tr>\n",
       "    <tr>\n",
       "      <th>16</th>\n",
       "      <td>024623001901</td>\n",
       "      <td>광양시 재가</td>\n",
       "      <td>None</td>\n",
       "      <td>None</td>\n",
       "      <td>None</td>\n",
       "    </tr>\n",
       "  </tbody>\n",
       "</table>\n",
       "</div>"
      ],
      "text/plain": [
       "              id        name phone address email\n",
       "86  211126003001      서울 의료원  None    None  None\n",
       "13  014833001001  양산시청 사회복지과  None    None  None\n",
       "16  024623001901      광양시 재가  None    None  None"
      ]
     },
     "execution_count": 390,
     "metadata": {},
     "output_type": "execute_result"
    }
   ],
   "source": [
    "df_scc_agency.sample(3)"
   ]
  },
  {
   "cell_type": "code",
   "execution_count": 391,
   "id": "cb70653b",
   "metadata": {},
   "outputs": [
    {
     "data": {
      "text/plain": [
       "(188, 5)"
      ]
     },
     "execution_count": 391,
     "metadata": {},
     "output_type": "execute_result"
    }
   ],
   "source": [
    "df_scc_agency.shape"
   ]
  },
  {
   "cell_type": "code",
   "execution_count": 392,
   "id": "23be539c",
   "metadata": {},
   "outputs": [],
   "source": [
    "# 사용할 컬럼만 선택\n",
    "df_scc_agency = df_scc_agency[['id', 'name']]"
   ]
  },
  {
   "cell_type": "code",
   "execution_count": 411,
   "id": "14ffdb21",
   "metadata": {},
   "outputs": [],
   "source": [
    "df_scc_agency.rename(columns={'id':'agency_code'\n",
    "                             ,'name':'agency_name'}, inplace=True)"
   ]
  },
  {
   "cell_type": "code",
   "execution_count": 412,
   "id": "9db99e7a",
   "metadata": {
    "scrolled": false
   },
   "outputs": [
    {
     "data": {
      "text/html": [
       "<div>\n",
       "<style scoped>\n",
       "    .dataframe tbody tr th:only-of-type {\n",
       "        vertical-align: middle;\n",
       "    }\n",
       "\n",
       "    .dataframe tbody tr th {\n",
       "        vertical-align: top;\n",
       "    }\n",
       "\n",
       "    .dataframe thead th {\n",
       "        text-align: right;\n",
       "    }\n",
       "</style>\n",
       "<table border=\"1\" class=\"dataframe\">\n",
       "  <thead>\n",
       "    <tr style=\"text-align: right;\">\n",
       "      <th></th>\n",
       "      <th>agency_code</th>\n",
       "      <th>agency_name</th>\n",
       "    </tr>\n",
       "  </thead>\n",
       "  <tbody>\n",
       "    <tr>\n",
       "      <th>137</th>\n",
       "      <td>451168004001</td>\n",
       "      <td>수서 종합사회복지관</td>\n",
       "    </tr>\n",
       "    <tr>\n",
       "      <th>36</th>\n",
       "      <td>032729002002</td>\n",
       "      <td>범물복지관</td>\n",
       "    </tr>\n",
       "    <tr>\n",
       "      <th>186</th>\n",
       "      <td>992009231000</td>\n",
       "      <td>임베디드센터</td>\n",
       "    </tr>\n",
       "  </tbody>\n",
       "</table>\n",
       "</div>"
      ],
      "text/plain": [
       "      agency_code agency_name\n",
       "137  451168004001  수서 종합사회복지관\n",
       "36   032729002002       범물복지관\n",
       "186  992009231000      임베디드센터"
      ]
     },
     "execution_count": 412,
     "metadata": {},
     "output_type": "execute_result"
    }
   ],
   "source": [
    "df_scc_agency.sample(3)"
   ]
  },
  {
   "cell_type": "markdown",
   "id": "99abb0ec",
   "metadata": {},
   "source": [
    "## scc_doll"
   ]
  },
  {
   "cell_type": "code",
   "execution_count": 90,
   "id": "a54ed4ce",
   "metadata": {},
   "outputs": [],
   "source": [
    "df_scc_doll = scc_doll.copy()"
   ]
  },
  {
   "cell_type": "code",
   "execution_count": 91,
   "id": "3e15b271",
   "metadata": {},
   "outputs": [
    {
     "data": {
      "text/html": [
       "<div>\n",
       "<style scoped>\n",
       "    .dataframe tbody tr th:only-of-type {\n",
       "        vertical-align: middle;\n",
       "    }\n",
       "\n",
       "    .dataframe tbody tr th {\n",
       "        vertical-align: top;\n",
       "    }\n",
       "\n",
       "    .dataframe thead th {\n",
       "        text-align: right;\n",
       "    }\n",
       "</style>\n",
       "<table border=\"1\" class=\"dataframe\">\n",
       "  <thead>\n",
       "    <tr style=\"text-align: right;\">\n",
       "      <th></th>\n",
       "      <th>id</th>\n",
       "      <th>host_user_id</th>\n",
       "      <th>name</th>\n",
       "      <th>phone_num</th>\n",
       "      <th>battery</th>\n",
       "      <th>active_monitor</th>\n",
       "      <th>sex</th>\n",
       "      <th>birthday</th>\n",
       "      <th>religion</th>\n",
       "      <th>wakeup</th>\n",
       "      <th>...</th>\n",
       "      <th>sleep</th>\n",
       "      <th>drug_option</th>\n",
       "      <th>ventilation_walk</th>\n",
       "      <th>is_edited</th>\n",
       "      <th>activeSenceTime</th>\n",
       "      <th>pic_file_name</th>\n",
       "      <th>is_delete</th>\n",
       "      <th>mac_id</th>\n",
       "      <th>regsted_date</th>\n",
       "      <th>disease</th>\n",
       "    </tr>\n",
       "  </thead>\n",
       "  <tbody>\n",
       "    <tr>\n",
       "      <th>3977</th>\n",
       "      <td>126526</td>\n",
       "      <td>7600</td>\n",
       "      <td>b\"6\\x95\\x1b'\\xa6\\x90\\xf0x\\xb8\\xf3\\x06\\xff\\x978...</td>\n",
       "      <td>b'\\xbdf\\x92\\xd6h=\\xf7&gt;\\xdeb\\xe4\\xa0\\x9a\\x0c9H'</td>\n",
       "      <td>67</td>\n",
       "      <td>24</td>\n",
       "      <td>2</td>\n",
       "      <td>1940-06-01</td>\n",
       "      <td>1</td>\n",
       "      <td>0 days 07:00:00</td>\n",
       "      <td>...</td>\n",
       "      <td>0 days 22:00:00</td>\n",
       "      <td>0000000</td>\n",
       "      <td>0</td>\n",
       "      <td>1</td>\n",
       "      <td>24</td>\n",
       "      <td></td>\n",
       "      <td>1</td>\n",
       "      <td>861760040217827</td>\n",
       "      <td>2019-09-02 15:42:51</td>\n",
       "      <td>000</td>\n",
       "    </tr>\n",
       "    <tr>\n",
       "      <th>353</th>\n",
       "      <td>356</td>\n",
       "      <td>18</td>\n",
       "      <td>b')\\x1dS\\xb74\\x8bo\\x01(\\xa1f\\xa6lNz\\n'</td>\n",
       "      <td>b'\\x90J\\xddd\\xe5\\x99\\x01\\x01o\\xb8&lt;j\\xa95\\x8cs'</td>\n",
       "      <td>0</td>\n",
       "      <td>24</td>\n",
       "      <td>1</td>\n",
       "      <td>1940-06-01</td>\n",
       "      <td>1</td>\n",
       "      <td>0 days 07:00:00</td>\n",
       "      <td>...</td>\n",
       "      <td>0 days 23:00:00</td>\n",
       "      <td>00000000</td>\n",
       "      <td>0</td>\n",
       "      <td>1</td>\n",
       "      <td>24</td>\n",
       "      <td></td>\n",
       "      <td>1</td>\n",
       "      <td>5c:cf:7f:b0:be:05</td>\n",
       "      <td>2018-11-12 14:54:14</td>\n",
       "      <td>000</td>\n",
       "    </tr>\n",
       "    <tr>\n",
       "      <th>5101</th>\n",
       "      <td>127655</td>\n",
       "      <td>7530</td>\n",
       "      <td>b'\\xb1J1\\xbe\\x9b\\xf2D=\\x98f\\xdes\\x8a\\xe5\\xb7\\xd4'</td>\n",
       "      <td>b'\\xbdf\\x92\\xd6h=\\xf7&gt;\\xdeb\\xe4\\xa0\\x9a\\x0c9H'</td>\n",
       "      <td>62</td>\n",
       "      <td>2</td>\n",
       "      <td>1</td>\n",
       "      <td>1940-06-23</td>\n",
       "      <td>1</td>\n",
       "      <td>0 days 07:00:00</td>\n",
       "      <td>...</td>\n",
       "      <td>0 days 22:00:00</td>\n",
       "      <td>1110000</td>\n",
       "      <td>3</td>\n",
       "      <td>0</td>\n",
       "      <td>2</td>\n",
       "      <td></td>\n",
       "      <td>1</td>\n",
       "      <td>861760040217751</td>\n",
       "      <td>2020-01-14 10:28:00</td>\n",
       "      <td>000</td>\n",
       "    </tr>\n",
       "  </tbody>\n",
       "</table>\n",
       "<p>3 rows × 23 columns</p>\n",
       "</div>"
      ],
      "text/plain": [
       "          id  host_user_id                                               name  \\\n",
       "3977  126526          7600  b\"6\\x95\\x1b'\\xa6\\x90\\xf0x\\xb8\\xf3\\x06\\xff\\x978...   \n",
       "353      356            18             b')\\x1dS\\xb74\\x8bo\\x01(\\xa1f\\xa6lNz\\n'   \n",
       "5101  127655          7530  b'\\xb1J1\\xbe\\x9b\\xf2D=\\x98f\\xdes\\x8a\\xe5\\xb7\\xd4'   \n",
       "\n",
       "                                           phone_num  battery  active_monitor  \\\n",
       "3977  b'\\xbdf\\x92\\xd6h=\\xf7>\\xdeb\\xe4\\xa0\\x9a\\x0c9H'       67              24   \n",
       "353   b'\\x90J\\xddd\\xe5\\x99\\x01\\x01o\\xb8<j\\xa95\\x8cs'        0              24   \n",
       "5101  b'\\xbdf\\x92\\xd6h=\\xf7>\\xdeb\\xe4\\xa0\\x9a\\x0c9H'       62               2   \n",
       "\n",
       "      sex    birthday  religion          wakeup  ...           sleep  \\\n",
       "3977    2  1940-06-01         1 0 days 07:00:00  ... 0 days 22:00:00   \n",
       "353     1  1940-06-01         1 0 days 07:00:00  ... 0 days 23:00:00   \n",
       "5101    1  1940-06-23         1 0 days 07:00:00  ... 0 days 22:00:00   \n",
       "\n",
       "     drug_option ventilation_walk is_edited activeSenceTime  pic_file_name  \\\n",
       "3977     0000000                0         1              24                  \n",
       "353     00000000                0         1              24                  \n",
       "5101     1110000                3         0               2                  \n",
       "\n",
       "      is_delete             mac_id        regsted_date  disease  \n",
       "3977          1    861760040217827 2019-09-02 15:42:51      000  \n",
       "353           1  5c:cf:7f:b0:be:05 2018-11-12 14:54:14      000  \n",
       "5101          1    861760040217751 2020-01-14 10:28:00      000  \n",
       "\n",
       "[3 rows x 23 columns]"
      ]
     },
     "execution_count": 91,
     "metadata": {},
     "output_type": "execute_result"
    }
   ],
   "source": [
    "df_scc_doll.sample(3)"
   ]
  },
  {
   "cell_type": "code",
   "execution_count": 92,
   "id": "984098ee",
   "metadata": {},
   "outputs": [
    {
     "data": {
      "text/plain": [
       "(12496, 23)"
      ]
     },
     "execution_count": 92,
     "metadata": {},
     "output_type": "execute_result"
    }
   ],
   "source": [
    "df_scc_doll.shape"
   ]
  },
  {
   "cell_type": "code",
   "execution_count": 93,
   "id": "78b5eb5c",
   "metadata": {
    "scrolled": false
   },
   "outputs": [
    {
     "name": "stdout",
     "output_type": "stream",
     "text": [
      "<class 'pandas.core.frame.DataFrame'>\n",
      "RangeIndex: 12496 entries, 0 to 12495\n",
      "Data columns (total 23 columns):\n",
      " #   Column            Non-Null Count  Dtype          \n",
      "---  ------            --------------  -----          \n",
      " 0   id                12496 non-null  int64          \n",
      " 1   host_user_id      12496 non-null  int64          \n",
      " 2   name              12496 non-null  object         \n",
      " 3   phone_num         12496 non-null  object         \n",
      " 4   battery           12496 non-null  int64          \n",
      " 5   active_monitor    12496 non-null  int64          \n",
      " 6   sex               12496 non-null  int64          \n",
      " 7   birthday          12495 non-null  object         \n",
      " 8   religion          12496 non-null  int64          \n",
      " 9   wakeup            12495 non-null  timedelta64[ns]\n",
      " 10  breakfast         12495 non-null  timedelta64[ns]\n",
      " 11  lunch             12495 non-null  timedelta64[ns]\n",
      " 12  dinner            12495 non-null  timedelta64[ns]\n",
      " 13  sleep             12495 non-null  timedelta64[ns]\n",
      " 14  drug_option       12496 non-null  object         \n",
      " 15  ventilation_walk  12496 non-null  int64          \n",
      " 16  is_edited         12496 non-null  int64          \n",
      " 17  activeSenceTime   12496 non-null  int64          \n",
      " 18  pic_file_name     12496 non-null  object         \n",
      " 19  is_delete         12496 non-null  int64          \n",
      " 20  mac_id            12496 non-null  object         \n",
      " 21  regsted_date      12496 non-null  datetime64[ns] \n",
      " 22  disease           12496 non-null  object         \n",
      "dtypes: datetime64[ns](1), int64(10), object(7), timedelta64[ns](5)\n",
      "memory usage: 2.2+ MB\n"
     ]
    }
   ],
   "source": [
    "df_scc_doll.info()"
   ]
  },
  {
   "cell_type": "markdown",
   "id": "1ff774bd",
   "metadata": {},
   "source": [
    "* 테스트 user_id 제외"
   ]
  },
  {
   "cell_type": "code",
   "execution_count": 94,
   "id": "bba0bfa2",
   "metadata": {},
   "outputs": [],
   "source": [
    "test_host_user_id = [7259,7260,7261,7262,7264,7265,7266,7267,7268,7269,7270,7271,7272,7275,7276,7277,7278,7279,7280,7282,7283,7284,7285,7286,7287,7288,7289,7290,7291,7292,7293,7294,7295,7296,7297,7298,7299,7300,7301,7302,7303,7304,7305,7306,7307,7308,7309,7310,7311,7312,7313,7314,7315,7316,7317,7318,7319,7320,7321,7322,7323,7324,7325,7326,7327,7328,7329,7330,7331,7332,7333,7334,7335,7336,7338,7341,7342,7343,7345,7346,7347,7348,7350,7388,7443,7511,7525,7530,7591,7979,8013]"
   ]
  },
  {
   "cell_type": "code",
   "execution_count": 95,
   "id": "da508200",
   "metadata": {},
   "outputs": [],
   "source": [
    "df_scc_doll = df_scc_doll.loc[~df_scc_doll.host_user_id.isin(test_host_user_id)]"
   ]
  },
  {
   "cell_type": "code",
   "execution_count": 96,
   "id": "52b30211",
   "metadata": {},
   "outputs": [
    {
     "data": {
      "text/plain": [
       "(10032, 23)"
      ]
     },
     "execution_count": 96,
     "metadata": {},
     "output_type": "execute_result"
    }
   ],
   "source": [
    "df_scc_doll.shape"
   ]
  },
  {
   "cell_type": "markdown",
   "id": "009efd2f",
   "metadata": {},
   "source": [
    "* 기관id 없는 user_id 제외"
   ]
  },
  {
   "cell_type": "code",
   "execution_count": 98,
   "id": "d93d3405",
   "metadata": {},
   "outputs": [],
   "source": [
    "df_scc_doll = df_scc_doll[~df_scc_doll['host_user_id'].isin(user_list)]"
   ]
  },
  {
   "cell_type": "code",
   "execution_count": 99,
   "id": "eaf7d8fe",
   "metadata": {},
   "outputs": [
    {
     "data": {
      "text/plain": [
       "(10016, 23)"
      ]
     },
     "execution_count": 99,
     "metadata": {},
     "output_type": "execute_result"
    }
   ],
   "source": [
    "df_scc_doll.shape"
   ]
  },
  {
   "cell_type": "markdown",
   "id": "79b2aec3",
   "metadata": {},
   "source": [
    "* 날짜 필터링 (2019.04 ~ 2021.05)"
   ]
  },
  {
   "cell_type": "code",
   "execution_count": 100,
   "id": "b26c68f8",
   "metadata": {},
   "outputs": [],
   "source": [
    "df_scc_doll = df_scc_doll.loc[(df_scc_doll['regsted_date'] >= '2019-04-01') &\\\n",
    "                                 (df_scc_doll['regsted_date'] <= '2021-05-31')]"
   ]
  },
  {
   "cell_type": "code",
   "execution_count": 101,
   "id": "9577c3ea",
   "metadata": {},
   "outputs": [
    {
     "data": {
      "text/plain": [
       "8057    1997\n",
       "9076     802\n",
       "96       380\n",
       "7599     376\n",
       "7506     139\n",
       "        ... \n",
       "8406       1\n",
       "7499       1\n",
       "8370       1\n",
       "8362       1\n",
       "9082       1\n",
       "Name: host_user_id, Length: 846, dtype: int64"
      ]
     },
     "execution_count": 101,
     "metadata": {},
     "output_type": "execute_result"
    }
   ],
   "source": [
    "df_scc_doll.host_user_id.value_counts()"
   ]
  },
  {
   "cell_type": "code",
   "execution_count": 102,
   "id": "82ce65a7",
   "metadata": {},
   "outputs": [
    {
     "data": {
      "text/plain": [
       "(7789, 23)"
      ]
     },
     "execution_count": 102,
     "metadata": {},
     "output_type": "execute_result"
    }
   ],
   "source": [
    "df_scc_doll.shape"
   ]
  },
  {
   "cell_type": "code",
   "execution_count": 103,
   "id": "4df24bde",
   "metadata": {},
   "outputs": [],
   "source": [
    "# 사용하지 않을 컬럼 제거\n",
    "df_scc_doll.drop(['name','phone_num','battery','active_monitor','is_edited',\\\n",
    "                  'activeSenceTime','pic_file_name','is_delete','mac_id','regsted_date'], axis=1, inplace=True)"
   ]
  },
  {
   "cell_type": "code",
   "execution_count": 104,
   "id": "05e91e34",
   "metadata": {},
   "outputs": [
    {
     "data": {
      "text/html": [
       "<div>\n",
       "<style scoped>\n",
       "    .dataframe tbody tr th:only-of-type {\n",
       "        vertical-align: middle;\n",
       "    }\n",
       "\n",
       "    .dataframe tbody tr th {\n",
       "        vertical-align: top;\n",
       "    }\n",
       "\n",
       "    .dataframe thead th {\n",
       "        text-align: right;\n",
       "    }\n",
       "</style>\n",
       "<table border=\"1\" class=\"dataframe\">\n",
       "  <thead>\n",
       "    <tr style=\"text-align: right;\">\n",
       "      <th></th>\n",
       "      <th>id</th>\n",
       "      <th>host_user_id</th>\n",
       "      <th>sex</th>\n",
       "      <th>birthday</th>\n",
       "      <th>religion</th>\n",
       "      <th>wakeup</th>\n",
       "      <th>breakfast</th>\n",
       "      <th>lunch</th>\n",
       "      <th>dinner</th>\n",
       "      <th>sleep</th>\n",
       "      <th>drug_option</th>\n",
       "      <th>ventilation_walk</th>\n",
       "      <th>disease</th>\n",
       "    </tr>\n",
       "  </thead>\n",
       "  <tbody>\n",
       "    <tr>\n",
       "      <th>11546</th>\n",
       "      <td>134101</td>\n",
       "      <td>9076</td>\n",
       "      <td>1</td>\n",
       "      <td>1940-06-23</td>\n",
       "      <td>1</td>\n",
       "      <td>0 days 07:00:00</td>\n",
       "      <td>0 days 08:00:00</td>\n",
       "      <td>0 days 10:00:00</td>\n",
       "      <td>0 days 18:00:00</td>\n",
       "      <td>0 days 22:00:00</td>\n",
       "      <td>0000000</td>\n",
       "      <td>3</td>\n",
       "      <td>000</td>\n",
       "    </tr>\n",
       "    <tr>\n",
       "      <th>11775</th>\n",
       "      <td>134330</td>\n",
       "      <td>9032</td>\n",
       "      <td>2</td>\n",
       "      <td>1940-06-01</td>\n",
       "      <td>3</td>\n",
       "      <td>0 days 08:00:00</td>\n",
       "      <td>0 days 09:00:00</td>\n",
       "      <td>0 days 12:00:00</td>\n",
       "      <td>0 days 18:00:00</td>\n",
       "      <td>0 days 22:00:00</td>\n",
       "      <td>0101010</td>\n",
       "      <td>3</td>\n",
       "      <td>011</td>\n",
       "    </tr>\n",
       "    <tr>\n",
       "      <th>2735</th>\n",
       "      <td>125281</td>\n",
       "      <td>96</td>\n",
       "      <td>2</td>\n",
       "      <td>1941-09-19</td>\n",
       "      <td>1</td>\n",
       "      <td>0 days 04:00:00</td>\n",
       "      <td>0 days 07:00:00</td>\n",
       "      <td>0 days 12:00:00</td>\n",
       "      <td>0 days 19:00:00</td>\n",
       "      <td>0 days 21:00:00</td>\n",
       "      <td>0100000</td>\n",
       "      <td>3</td>\n",
       "      <td>000</td>\n",
       "    </tr>\n",
       "  </tbody>\n",
       "</table>\n",
       "</div>"
      ],
      "text/plain": [
       "           id  host_user_id  sex    birthday  religion          wakeup  \\\n",
       "11546  134101          9076    1  1940-06-23         1 0 days 07:00:00   \n",
       "11775  134330          9032    2  1940-06-01         3 0 days 08:00:00   \n",
       "2735   125281            96    2  1941-09-19         1 0 days 04:00:00   \n",
       "\n",
       "            breakfast           lunch          dinner           sleep  \\\n",
       "11546 0 days 08:00:00 0 days 10:00:00 0 days 18:00:00 0 days 22:00:00   \n",
       "11775 0 days 09:00:00 0 days 12:00:00 0 days 18:00:00 0 days 22:00:00   \n",
       "2735  0 days 07:00:00 0 days 12:00:00 0 days 19:00:00 0 days 21:00:00   \n",
       "\n",
       "      drug_option  ventilation_walk disease  \n",
       "11546     0000000                 3     000  \n",
       "11775     0101010                 3     011  \n",
       "2735      0100000                 3     000  "
      ]
     },
     "execution_count": 104,
     "metadata": {},
     "output_type": "execute_result"
    }
   ],
   "source": [
    "df_scc_doll.sample(3)"
   ]
  },
  {
   "cell_type": "markdown",
   "id": "9214b649",
   "metadata": {},
   "source": [
    "## scc_doll_option"
   ]
  },
  {
   "cell_type": "code",
   "execution_count": 111,
   "id": "1ff4e2be",
   "metadata": {},
   "outputs": [],
   "source": [
    "df_scc_doll_option = scc_doll_option.copy()"
   ]
  },
  {
   "cell_type": "code",
   "execution_count": 142,
   "id": "76296736",
   "metadata": {},
   "outputs": [
    {
     "data": {
      "text/html": [
       "<div>\n",
       "<style scoped>\n",
       "    .dataframe tbody tr th:only-of-type {\n",
       "        vertical-align: middle;\n",
       "    }\n",
       "\n",
       "    .dataframe tbody tr th {\n",
       "        vertical-align: top;\n",
       "    }\n",
       "\n",
       "    .dataframe thead th {\n",
       "        text-align: right;\n",
       "    }\n",
       "</style>\n",
       "<table border=\"1\" class=\"dataframe\">\n",
       "  <thead>\n",
       "    <tr style=\"text-align: right;\">\n",
       "      <th></th>\n",
       "      <th>doll_id</th>\n",
       "      <th>connection_type</th>\n",
       "      <th>serial_number</th>\n",
       "      <th>charms_mode</th>\n",
       "      <th>no_alarm</th>\n",
       "      <th>custom_timer1</th>\n",
       "      <th>custom_timer2</th>\n",
       "      <th>custom_timer3</th>\n",
       "      <th>custom_timer4</th>\n",
       "      <th>custom_timer5</th>\n",
       "      <th>religion_alarm</th>\n",
       "      <th>calender_type</th>\n",
       "      <th>is_edited</th>\n",
       "      <th>is_active_detect</th>\n",
       "      <th>appellation</th>\n",
       "      <th>right_ear_function</th>\n",
       "      <th>left_ear_function</th>\n",
       "    </tr>\n",
       "  </thead>\n",
       "  <tbody>\n",
       "    <tr>\n",
       "      <th>9484</th>\n",
       "      <td>132884</td>\n",
       "      <td>2</td>\n",
       "      <td>01C200401948</td>\n",
       "      <td>1</td>\n",
       "      <td>0</td>\n",
       "      <td>07:00:00</td>\n",
       "      <td></td>\n",
       "      <td></td>\n",
       "      <td></td>\n",
       "      <td></td>\n",
       "      <td>0</td>\n",
       "      <td>1</td>\n",
       "      <td>0</td>\n",
       "      <td>0</td>\n",
       "      <td>10000</td>\n",
       "      <td>0100000</td>\n",
       "      <td>1000000</td>\n",
       "    </tr>\n",
       "    <tr>\n",
       "      <th>279</th>\n",
       "      <td>123679</td>\n",
       "      <td>0</td>\n",
       "      <td>01W180100003</td>\n",
       "      <td>1</td>\n",
       "      <td>0</td>\n",
       "      <td>07:00:00</td>\n",
       "      <td></td>\n",
       "      <td></td>\n",
       "      <td></td>\n",
       "      <td></td>\n",
       "      <td>0</td>\n",
       "      <td>0</td>\n",
       "      <td>0</td>\n",
       "      <td>0</td>\n",
       "      <td>10000</td>\n",
       "      <td>0000001</td>\n",
       "      <td>0000010</td>\n",
       "    </tr>\n",
       "    <tr>\n",
       "      <th>2733</th>\n",
       "      <td>126133</td>\n",
       "      <td>2</td>\n",
       "      <td>01C190800401</td>\n",
       "      <td>1</td>\n",
       "      <td>0</td>\n",
       "      <td>07:00:00</td>\n",
       "      <td></td>\n",
       "      <td></td>\n",
       "      <td></td>\n",
       "      <td></td>\n",
       "      <td>0</td>\n",
       "      <td>1</td>\n",
       "      <td>0</td>\n",
       "      <td>0</td>\n",
       "      <td>10000</td>\n",
       "      <td>0000001</td>\n",
       "      <td>0000010</td>\n",
       "    </tr>\n",
       "  </tbody>\n",
       "</table>\n",
       "</div>"
      ],
      "text/plain": [
       "      doll_id  connection_type serial_number  charms_mode  no_alarm  \\\n",
       "9484   132884                2  01C200401948            1         0   \n",
       "279    123679                0  01W180100003            1         0   \n",
       "2733   126133                2  01C190800401            1         0   \n",
       "\n",
       "     custom_timer1 custom_timer2 custom_timer3 custom_timer4 custom_timer5  \\\n",
       "9484      07:00:00                                                           \n",
       "279       07:00:00                                                           \n",
       "2733      07:00:00                                                           \n",
       "\n",
       "      religion_alarm  calender_type  is_edited  is_active_detect appellation  \\\n",
       "9484               0              1          0                 0       10000   \n",
       "279                0              0          0                 0       10000   \n",
       "2733               0              1          0                 0       10000   \n",
       "\n",
       "     right_ear_function left_ear_function  \n",
       "9484            0100000           1000000  \n",
       "279             0000001           0000010  \n",
       "2733            0000001           0000010  "
      ]
     },
     "execution_count": 142,
     "metadata": {},
     "output_type": "execute_result"
    }
   ],
   "source": [
    "df_scc_doll_option.sample(3)"
   ]
  },
  {
   "cell_type": "code",
   "execution_count": 53,
   "id": "4337ddbf",
   "metadata": {},
   "outputs": [
    {
     "data": {
      "text/plain": [
       "1    11423\n",
       "0      208\n",
       "Name: charms_mode, dtype: int64"
      ]
     },
     "execution_count": 53,
     "metadata": {},
     "output_type": "execute_result"
    }
   ],
   "source": [
    "df_scc_doll_option.charms_mode.value_counts()"
   ]
  },
  {
   "cell_type": "markdown",
   "id": "c2572304",
   "metadata": {},
   "source": [
    "* 타이머 설정되어 있는 횟수 -> 새로운 컬럼 만들기"
   ]
  },
  {
   "cell_type": "code",
   "execution_count": 164,
   "id": "741e3cba",
   "metadata": {},
   "outputs": [],
   "source": [
    "timer_col = ['custom_timer1', 'custom_timer2', 'custom_timer3', 'custom_timer4', 'custom_timer5']"
   ]
  },
  {
   "cell_type": "code",
   "execution_count": 177,
   "id": "80179f1b",
   "metadata": {},
   "outputs": [],
   "source": [
    "df_scc_doll_option.loc[:, timer_col] = df_scc_doll_option.loc[:, timer_col].replace('', np.NaN)"
   ]
  },
  {
   "cell_type": "code",
   "execution_count": 178,
   "id": "80501d19",
   "metadata": {},
   "outputs": [
    {
     "data": {
      "text/html": [
       "<div>\n",
       "<style scoped>\n",
       "    .dataframe tbody tr th:only-of-type {\n",
       "        vertical-align: middle;\n",
       "    }\n",
       "\n",
       "    .dataframe tbody tr th {\n",
       "        vertical-align: top;\n",
       "    }\n",
       "\n",
       "    .dataframe thead th {\n",
       "        text-align: right;\n",
       "    }\n",
       "</style>\n",
       "<table border=\"1\" class=\"dataframe\">\n",
       "  <thead>\n",
       "    <tr style=\"text-align: right;\">\n",
       "      <th></th>\n",
       "      <th>doll_id</th>\n",
       "      <th>connection_type</th>\n",
       "      <th>serial_number</th>\n",
       "      <th>charms_mode</th>\n",
       "      <th>no_alarm</th>\n",
       "      <th>custom_timer1</th>\n",
       "      <th>custom_timer2</th>\n",
       "      <th>custom_timer3</th>\n",
       "      <th>custom_timer4</th>\n",
       "      <th>custom_timer5</th>\n",
       "      <th>religion_alarm</th>\n",
       "      <th>calender_type</th>\n",
       "      <th>is_edited</th>\n",
       "      <th>is_active_detect</th>\n",
       "      <th>appellation</th>\n",
       "      <th>right_ear_function</th>\n",
       "      <th>left_ear_function</th>\n",
       "      <th>test</th>\n",
       "    </tr>\n",
       "  </thead>\n",
       "  <tbody>\n",
       "    <tr>\n",
       "      <th>0</th>\n",
       "      <td>29</td>\n",
       "      <td>0</td>\n",
       "      <td>01W181000019</td>\n",
       "      <td>0</td>\n",
       "      <td>0</td>\n",
       "      <td>07:00:00</td>\n",
       "      <td>08:00:00</td>\n",
       "      <td>13:00:00</td>\n",
       "      <td>18:00:00</td>\n",
       "      <td>23:00:00</td>\n",
       "      <td>0</td>\n",
       "      <td>1</td>\n",
       "      <td>0</td>\n",
       "      <td>1</td>\n",
       "      <td>10000</td>\n",
       "      <td>0000001</td>\n",
       "      <td>0000010</td>\n",
       "      <td>08:00:00</td>\n",
       "    </tr>\n",
       "    <tr>\n",
       "      <th>1</th>\n",
       "      <td>33</td>\n",
       "      <td>0</td>\n",
       "      <td>01W181000019</td>\n",
       "      <td>0</td>\n",
       "      <td>0</td>\n",
       "      <td>07:00:00</td>\n",
       "      <td>08:00:00</td>\n",
       "      <td>13:00:00</td>\n",
       "      <td>18:00:00</td>\n",
       "      <td>23:00:00</td>\n",
       "      <td>0</td>\n",
       "      <td>1</td>\n",
       "      <td>0</td>\n",
       "      <td>1</td>\n",
       "      <td>10000</td>\n",
       "      <td>0000001</td>\n",
       "      <td>0000010</td>\n",
       "      <td>08:00:00</td>\n",
       "    </tr>\n",
       "    <tr>\n",
       "      <th>2</th>\n",
       "      <td>43</td>\n",
       "      <td>0</td>\n",
       "      <td>01W181000019</td>\n",
       "      <td>0</td>\n",
       "      <td>0</td>\n",
       "      <td>07:00:00</td>\n",
       "      <td>08:00:00</td>\n",
       "      <td>13:00:00</td>\n",
       "      <td>18:00:00</td>\n",
       "      <td>23:00:00</td>\n",
       "      <td>0</td>\n",
       "      <td>1</td>\n",
       "      <td>0</td>\n",
       "      <td>1</td>\n",
       "      <td>10000</td>\n",
       "      <td>0000001</td>\n",
       "      <td>0000010</td>\n",
       "      <td>08:00:00</td>\n",
       "    </tr>\n",
       "    <tr>\n",
       "      <th>3</th>\n",
       "      <td>69</td>\n",
       "      <td>0</td>\n",
       "      <td>01W181000019</td>\n",
       "      <td>0</td>\n",
       "      <td>0</td>\n",
       "      <td>07:00:00</td>\n",
       "      <td>08:00:00</td>\n",
       "      <td>13:00:00</td>\n",
       "      <td>18:00:00</td>\n",
       "      <td>23:00:00</td>\n",
       "      <td>0</td>\n",
       "      <td>1</td>\n",
       "      <td>0</td>\n",
       "      <td>1</td>\n",
       "      <td>10000</td>\n",
       "      <td>0000001</td>\n",
       "      <td>0000010</td>\n",
       "      <td>08:00:00</td>\n",
       "    </tr>\n",
       "    <tr>\n",
       "      <th>4</th>\n",
       "      <td>215</td>\n",
       "      <td>0</td>\n",
       "      <td>01W181000019</td>\n",
       "      <td>1</td>\n",
       "      <td>1</td>\n",
       "      <td>07:00:00</td>\n",
       "      <td>08:00:00</td>\n",
       "      <td>13:00:00</td>\n",
       "      <td>18:00:00</td>\n",
       "      <td>23:00:00</td>\n",
       "      <td>1</td>\n",
       "      <td>1</td>\n",
       "      <td>0</td>\n",
       "      <td>1</td>\n",
       "      <td>10000</td>\n",
       "      <td>0000001</td>\n",
       "      <td>0000010</td>\n",
       "      <td>08:00:00</td>\n",
       "    </tr>\n",
       "    <tr>\n",
       "      <th>...</th>\n",
       "      <td>...</td>\n",
       "      <td>...</td>\n",
       "      <td>...</td>\n",
       "      <td>...</td>\n",
       "      <td>...</td>\n",
       "      <td>...</td>\n",
       "      <td>...</td>\n",
       "      <td>...</td>\n",
       "      <td>...</td>\n",
       "      <td>...</td>\n",
       "      <td>...</td>\n",
       "      <td>...</td>\n",
       "      <td>...</td>\n",
       "      <td>...</td>\n",
       "      <td>...</td>\n",
       "      <td>...</td>\n",
       "      <td>...</td>\n",
       "      <td>...</td>\n",
       "    </tr>\n",
       "    <tr>\n",
       "      <th>11626</th>\n",
       "      <td>135026</td>\n",
       "      <td>2</td>\n",
       "      <td>01C200400506</td>\n",
       "      <td>1</td>\n",
       "      <td>0</td>\n",
       "      <td>09:00:00</td>\n",
       "      <td>NaN</td>\n",
       "      <td>NaN</td>\n",
       "      <td>NaN</td>\n",
       "      <td>NaN</td>\n",
       "      <td>1</td>\n",
       "      <td>0</td>\n",
       "      <td>0</td>\n",
       "      <td>0</td>\n",
       "      <td>10000</td>\n",
       "      <td>0010001</td>\n",
       "      <td>1011110</td>\n",
       "      <td>NaN</td>\n",
       "    </tr>\n",
       "    <tr>\n",
       "      <th>11627</th>\n",
       "      <td>135027</td>\n",
       "      <td>2</td>\n",
       "      <td>01C200400506</td>\n",
       "      <td>1</td>\n",
       "      <td>0</td>\n",
       "      <td>09:00:00</td>\n",
       "      <td>NaN</td>\n",
       "      <td>NaN</td>\n",
       "      <td>NaN</td>\n",
       "      <td>NaN</td>\n",
       "      <td>0</td>\n",
       "      <td>0</td>\n",
       "      <td>0</td>\n",
       "      <td>0</td>\n",
       "      <td>10000</td>\n",
       "      <td>0010000</td>\n",
       "      <td>0100000</td>\n",
       "      <td>NaN</td>\n",
       "    </tr>\n",
       "    <tr>\n",
       "      <th>11628</th>\n",
       "      <td>135028</td>\n",
       "      <td>2</td>\n",
       "      <td>01C200400506</td>\n",
       "      <td>1</td>\n",
       "      <td>0</td>\n",
       "      <td>NaN</td>\n",
       "      <td>NaN</td>\n",
       "      <td>NaN</td>\n",
       "      <td>NaN</td>\n",
       "      <td>NaN</td>\n",
       "      <td>0</td>\n",
       "      <td>0</td>\n",
       "      <td>1</td>\n",
       "      <td>0</td>\n",
       "      <td>10000</td>\n",
       "      <td>0010000</td>\n",
       "      <td>0000100</td>\n",
       "      <td>NaN</td>\n",
       "    </tr>\n",
       "    <tr>\n",
       "      <th>11629</th>\n",
       "      <td>135029</td>\n",
       "      <td>2</td>\n",
       "      <td>01C200402280</td>\n",
       "      <td>1</td>\n",
       "      <td>0</td>\n",
       "      <td>07:00:00</td>\n",
       "      <td>NaN</td>\n",
       "      <td>NaN</td>\n",
       "      <td>NaN</td>\n",
       "      <td>NaN</td>\n",
       "      <td>0</td>\n",
       "      <td>0</td>\n",
       "      <td>0</td>\n",
       "      <td>0</td>\n",
       "      <td>01000</td>\n",
       "      <td>000001000</td>\n",
       "      <td>111000011</td>\n",
       "      <td>NaN</td>\n",
       "    </tr>\n",
       "    <tr>\n",
       "      <th>11630</th>\n",
       "      <td>135030</td>\n",
       "      <td>2</td>\n",
       "      <td>01C200402280</td>\n",
       "      <td>1</td>\n",
       "      <td>0</td>\n",
       "      <td>07:00:00</td>\n",
       "      <td>NaN</td>\n",
       "      <td>NaN</td>\n",
       "      <td>NaN</td>\n",
       "      <td>NaN</td>\n",
       "      <td>0</td>\n",
       "      <td>0</td>\n",
       "      <td>0</td>\n",
       "      <td>0</td>\n",
       "      <td>01000</td>\n",
       "      <td>100001010</td>\n",
       "      <td>011000001</td>\n",
       "      <td>NaN</td>\n",
       "    </tr>\n",
       "  </tbody>\n",
       "</table>\n",
       "<p>11631 rows × 18 columns</p>\n",
       "</div>"
      ],
      "text/plain": [
       "       doll_id  connection_type serial_number  charms_mode  no_alarm  \\\n",
       "0           29                0  01W181000019            0         0   \n",
       "1           33                0  01W181000019            0         0   \n",
       "2           43                0  01W181000019            0         0   \n",
       "3           69                0  01W181000019            0         0   \n",
       "4          215                0  01W181000019            1         1   \n",
       "...        ...              ...           ...          ...       ...   \n",
       "11626   135026                2  01C200400506            1         0   \n",
       "11627   135027                2  01C200400506            1         0   \n",
       "11628   135028                2  01C200400506            1         0   \n",
       "11629   135029                2  01C200402280            1         0   \n",
       "11630   135030                2  01C200402280            1         0   \n",
       "\n",
       "      custom_timer1 custom_timer2 custom_timer3 custom_timer4 custom_timer5  \\\n",
       "0          07:00:00      08:00:00      13:00:00      18:00:00      23:00:00   \n",
       "1          07:00:00      08:00:00      13:00:00      18:00:00      23:00:00   \n",
       "2          07:00:00      08:00:00      13:00:00      18:00:00      23:00:00   \n",
       "3          07:00:00      08:00:00      13:00:00      18:00:00      23:00:00   \n",
       "4          07:00:00      08:00:00      13:00:00      18:00:00      23:00:00   \n",
       "...             ...           ...           ...           ...           ...   \n",
       "11626      09:00:00           NaN           NaN           NaN           NaN   \n",
       "11627      09:00:00           NaN           NaN           NaN           NaN   \n",
       "11628           NaN           NaN           NaN           NaN           NaN   \n",
       "11629      07:00:00           NaN           NaN           NaN           NaN   \n",
       "11630      07:00:00           NaN           NaN           NaN           NaN   \n",
       "\n",
       "       religion_alarm  calender_type  is_edited  is_active_detect appellation  \\\n",
       "0                   0              1          0                 1       10000   \n",
       "1                   0              1          0                 1       10000   \n",
       "2                   0              1          0                 1       10000   \n",
       "3                   0              1          0                 1       10000   \n",
       "4                   1              1          0                 1       10000   \n",
       "...               ...            ...        ...               ...         ...   \n",
       "11626               1              0          0                 0       10000   \n",
       "11627               0              0          0                 0       10000   \n",
       "11628               0              0          1                 0       10000   \n",
       "11629               0              0          0                 0       01000   \n",
       "11630               0              0          0                 0       01000   \n",
       "\n",
       "      right_ear_function left_ear_function      test  \n",
       "0                0000001           0000010  08:00:00  \n",
       "1                0000001           0000010  08:00:00  \n",
       "2                0000001           0000010  08:00:00  \n",
       "3                0000001           0000010  08:00:00  \n",
       "4                0000001           0000010  08:00:00  \n",
       "...                  ...               ...       ...  \n",
       "11626            0010001           1011110       NaN  \n",
       "11627            0010000           0100000       NaN  \n",
       "11628            0010000           0000100       NaN  \n",
       "11629          000001000         111000011       NaN  \n",
       "11630          100001010         011000001       NaN  \n",
       "\n",
       "[11631 rows x 18 columns]"
      ]
     },
     "execution_count": 178,
     "metadata": {},
     "output_type": "execute_result"
    }
   ],
   "source": [
    "df_scc_doll_option"
   ]
  },
  {
   "cell_type": "code",
   "execution_count": 183,
   "id": "cf9788c7",
   "metadata": {},
   "outputs": [],
   "source": [
    "df_scc_doll_option['custom_timer_cnt'] = df_scc_doll_option[timer_col].count(axis=1)"
   ]
  },
  {
   "cell_type": "code",
   "execution_count": 199,
   "id": "fb2d8067",
   "metadata": {},
   "outputs": [],
   "source": [
    "df_scc_doll_option = df_scc_doll_option[['doll_id', 'connection_type', 'no_alarm' \n",
    "                                        ,'custom_timer_cnt', 'religion_alarm','right_ear_function', 'left_ear_function']]"
   ]
  },
  {
   "cell_type": "code",
   "execution_count": 460,
   "id": "9e9befe4",
   "metadata": {},
   "outputs": [],
   "source": [
    "df_scc_doll_option.rename(columns={'doll_id':'id'}, inplace=True)"
   ]
  },
  {
   "cell_type": "code",
   "execution_count": 461,
   "id": "8bd1407a",
   "metadata": {
    "scrolled": true
   },
   "outputs": [
    {
     "data": {
      "text/html": [
       "<div>\n",
       "<style scoped>\n",
       "    .dataframe tbody tr th:only-of-type {\n",
       "        vertical-align: middle;\n",
       "    }\n",
       "\n",
       "    .dataframe tbody tr th {\n",
       "        vertical-align: top;\n",
       "    }\n",
       "\n",
       "    .dataframe thead th {\n",
       "        text-align: right;\n",
       "    }\n",
       "</style>\n",
       "<table border=\"1\" class=\"dataframe\">\n",
       "  <thead>\n",
       "    <tr style=\"text-align: right;\">\n",
       "      <th></th>\n",
       "      <th>id</th>\n",
       "      <th>connection_type</th>\n",
       "      <th>no_alarm</th>\n",
       "      <th>custom_timer_cnt</th>\n",
       "      <th>religion_alarm</th>\n",
       "      <th>right_ear_function</th>\n",
       "      <th>left_ear_function</th>\n",
       "    </tr>\n",
       "  </thead>\n",
       "  <tbody>\n",
       "    <tr>\n",
       "      <th>9210</th>\n",
       "      <td>132610</td>\n",
       "      <td>2</td>\n",
       "      <td>0</td>\n",
       "      <td>1</td>\n",
       "      <td>0</td>\n",
       "      <td>0100000</td>\n",
       "      <td>1000000</td>\n",
       "    </tr>\n",
       "    <tr>\n",
       "      <th>6742</th>\n",
       "      <td>130142</td>\n",
       "      <td>2</td>\n",
       "      <td>0</td>\n",
       "      <td>1</td>\n",
       "      <td>0</td>\n",
       "      <td>0100000</td>\n",
       "      <td>1000000</td>\n",
       "    </tr>\n",
       "    <tr>\n",
       "      <th>6636</th>\n",
       "      <td>130036</td>\n",
       "      <td>2</td>\n",
       "      <td>0</td>\n",
       "      <td>1</td>\n",
       "      <td>0</td>\n",
       "      <td>0100000</td>\n",
       "      <td>1000000</td>\n",
       "    </tr>\n",
       "  </tbody>\n",
       "</table>\n",
       "</div>"
      ],
      "text/plain": [
       "          id  connection_type  no_alarm  custom_timer_cnt  religion_alarm  \\\n",
       "9210  132610                2         0                 1               0   \n",
       "6742  130142                2         0                 1               0   \n",
       "6636  130036                2         0                 1               0   \n",
       "\n",
       "     right_ear_function left_ear_function  \n",
       "9210            0100000           1000000  \n",
       "6742            0100000           1000000  \n",
       "6636            0100000           1000000  "
      ]
     },
     "execution_count": 461,
     "metadata": {},
     "output_type": "execute_result"
    }
   ],
   "source": [
    "df_scc_doll_option.sample(3)"
   ]
  },
  {
   "cell_type": "markdown",
   "id": "d550354c",
   "metadata": {},
   "source": [
    "## (제외) scc_user_doll_group"
   ]
  },
  {
   "cell_type": "markdown",
   "id": "c1e0db77",
   "metadata": {},
   "source": [
    "scc_user와 중복되는 듯"
   ]
  },
  {
   "cell_type": "code",
   "execution_count": 58,
   "id": "cf93bdfe",
   "metadata": {},
   "outputs": [],
   "source": [
    "df_scc_user_doll_group = scc_user_doll_group.copy()"
   ]
  },
  {
   "cell_type": "code",
   "execution_count": 201,
   "id": "89c7768e",
   "metadata": {},
   "outputs": [
    {
     "data": {
      "text/html": [
       "<div>\n",
       "<style scoped>\n",
       "    .dataframe tbody tr th:only-of-type {\n",
       "        vertical-align: middle;\n",
       "    }\n",
       "\n",
       "    .dataframe tbody tr th {\n",
       "        vertical-align: top;\n",
       "    }\n",
       "\n",
       "    .dataframe thead th {\n",
       "        text-align: right;\n",
       "    }\n",
       "</style>\n",
       "<table border=\"1\" class=\"dataframe\">\n",
       "  <thead>\n",
       "    <tr style=\"text-align: right;\">\n",
       "      <th></th>\n",
       "      <th>id</th>\n",
       "      <th>doll_id</th>\n",
       "      <th>user_group_member_id</th>\n",
       "      <th>is_host</th>\n",
       "      <th>agency_code</th>\n",
       "      <th>reg_date</th>\n",
       "    </tr>\n",
       "  </thead>\n",
       "  <tbody>\n",
       "    <tr>\n",
       "      <th>155</th>\n",
       "      <td>236</td>\n",
       "      <td>192</td>\n",
       "      <td>36</td>\n",
       "      <td>1</td>\n",
       "      <td>None</td>\n",
       "      <td>NaT</td>\n",
       "    </tr>\n",
       "    <tr>\n",
       "      <th>9377</th>\n",
       "      <td>14814</td>\n",
       "      <td>134611</td>\n",
       "      <td>9076</td>\n",
       "      <td>1</td>\n",
       "      <td>000000000002</td>\n",
       "      <td>2021-05-03 15:52:27</td>\n",
       "    </tr>\n",
       "    <tr>\n",
       "      <th>7615</th>\n",
       "      <td>12826</td>\n",
       "      <td>133015</td>\n",
       "      <td>8785</td>\n",
       "      <td>1</td>\n",
       "      <td>724213007001</td>\n",
       "      <td>2021-02-02 14:33:02</td>\n",
       "    </tr>\n",
       "  </tbody>\n",
       "</table>\n",
       "</div>"
      ],
      "text/plain": [
       "         id  doll_id  user_group_member_id  is_host   agency_code  \\\n",
       "155     236      192                    36        1          None   \n",
       "9377  14814   134611                  9076        1  000000000002   \n",
       "7615  12826   133015                  8785        1  724213007001   \n",
       "\n",
       "                reg_date  \n",
       "155                  NaT  \n",
       "9377 2021-05-03 15:52:27  \n",
       "7615 2021-02-02 14:33:02  "
      ]
     },
     "execution_count": 201,
     "metadata": {},
     "output_type": "execute_result"
    }
   ],
   "source": [
    "df_scc_user_doll_group.sample(3)"
   ]
  },
  {
   "cell_type": "markdown",
   "id": "45a78efb",
   "metadata": {},
   "source": [
    "## 설문데이터"
   ]
  },
  {
   "cell_type": "code",
   "execution_count": 469,
   "id": "fd10b40b",
   "metadata": {},
   "outputs": [],
   "source": [
    "df_survey = pd.read_csv('data/survey_1.csv')"
   ]
  },
  {
   "cell_type": "code",
   "execution_count": 470,
   "id": "df24d33b",
   "metadata": {},
   "outputs": [
    {
     "name": "stdout",
     "output_type": "stream",
     "text": [
      "<class 'pandas.core.frame.DataFrame'>\n",
      "RangeIndex: 457 entries, 0 to 456\n",
      "Columns: 140 entries, no to DISE3\n",
      "dtypes: float64(9), int64(5), object(126)\n",
      "memory usage: 500.0+ KB\n"
     ]
    }
   ],
   "source": [
    "df_survey.info()"
   ]
  },
  {
   "cell_type": "code",
   "execution_count": 471,
   "id": "319f5d95",
   "metadata": {},
   "outputs": [
    {
     "data": {
      "text/plain": [
       "(457, 140)"
      ]
     },
     "execution_count": 471,
     "metadata": {},
     "output_type": "execute_result"
    }
   ],
   "source": [
    "df_survey.shape"
   ]
  },
  {
   "cell_type": "code",
   "execution_count": 472,
   "id": "8326aa13",
   "metadata": {},
   "outputs": [
    {
     "data": {
      "text/html": [
       "<div>\n",
       "<style scoped>\n",
       "    .dataframe tbody tr th:only-of-type {\n",
       "        vertical-align: middle;\n",
       "    }\n",
       "\n",
       "    .dataframe tbody tr th {\n",
       "        vertical-align: top;\n",
       "    }\n",
       "\n",
       "    .dataframe thead th {\n",
       "        text-align: right;\n",
       "    }\n",
       "</style>\n",
       "<table border=\"1\" class=\"dataframe\">\n",
       "  <thead>\n",
       "    <tr style=\"text-align: right;\">\n",
       "      <th></th>\n",
       "      <th>no</th>\n",
       "      <th>id_new</th>\n",
       "      <th>id</th>\n",
       "      <th>id_guro</th>\n",
       "      <th>GP</th>\n",
       "      <th>sub_gp</th>\n",
       "      <th>SERIAL</th>\n",
       "      <th>born</th>\n",
       "      <th>age</th>\n",
       "      <th>sex</th>\n",
       "      <th>...</th>\n",
       "      <th>dq7_1</th>\n",
       "      <th>dq7_2</th>\n",
       "      <th>dq7_3</th>\n",
       "      <th>dq7_4</th>\n",
       "      <th>dq7_5</th>\n",
       "      <th>dq7_6</th>\n",
       "      <th>dq7_7</th>\n",
       "      <th>DISE1</th>\n",
       "      <th>DISE2</th>\n",
       "      <th>DISE3</th>\n",
       "    </tr>\n",
       "  </thead>\n",
       "  <tbody>\n",
       "    <tr>\n",
       "      <th>432</th>\n",
       "      <td>289</td>\n",
       "      <td>127298</td>\n",
       "      <td>127298.0</td>\n",
       "      <td>199</td>\n",
       "      <td>구로</td>\n",
       "      <td>구로어르신돌봄통합센터</td>\n",
       "      <td>NaN</td>\n",
       "      <td>1935</td>\n",
       "      <td>84</td>\n",
       "      <td>여</td>\n",
       "      <td>...</td>\n",
       "      <td>NaN</td>\n",
       "      <td>아침 식후</td>\n",
       "      <td>NaN</td>\n",
       "      <td>NaN</td>\n",
       "      <td>NaN</td>\n",
       "      <td>저녁 식후</td>\n",
       "      <td>NaN</td>\n",
       "      <td>NaN</td>\n",
       "      <td>NaN</td>\n",
       "      <td>NaN</td>\n",
       "    </tr>\n",
       "    <tr>\n",
       "      <th>90</th>\n",
       "      <td>242</td>\n",
       "      <td>125160</td>\n",
       "      <td>NaN</td>\n",
       "      <td>125160</td>\n",
       "      <td>광양</td>\n",
       "      <td>NaN</td>\n",
       "      <td>02N190200129</td>\n",
       "      <td>1937</td>\n",
       "      <td>83</td>\n",
       "      <td>여</td>\n",
       "      <td>...</td>\n",
       "      <td>NaN</td>\n",
       "      <td>NaN</td>\n",
       "      <td>NaN</td>\n",
       "      <td>NaN</td>\n",
       "      <td>NaN</td>\n",
       "      <td>NaN</td>\n",
       "      <td>NaN</td>\n",
       "      <td>NaN</td>\n",
       "      <td>NaN</td>\n",
       "      <td>NaN</td>\n",
       "    </tr>\n",
       "    <tr>\n",
       "      <th>339</th>\n",
       "      <td>383</td>\n",
       "      <td>126816</td>\n",
       "      <td>126816.0</td>\n",
       "      <td>60</td>\n",
       "      <td>구로</td>\n",
       "      <td>구로건강복지센터</td>\n",
       "      <td>NaN</td>\n",
       "      <td>1932</td>\n",
       "      <td>87</td>\n",
       "      <td>남</td>\n",
       "      <td>...</td>\n",
       "      <td>NaN</td>\n",
       "      <td>아침 식후</td>\n",
       "      <td>NaN</td>\n",
       "      <td>NaN</td>\n",
       "      <td>NaN</td>\n",
       "      <td>저녁 식후</td>\n",
       "      <td>NaN</td>\n",
       "      <td>NaN</td>\n",
       "      <td>NaN</td>\n",
       "      <td>NaN</td>\n",
       "    </tr>\n",
       "    <tr>\n",
       "      <th>166</th>\n",
       "      <td>508</td>\n",
       "      <td>125263</td>\n",
       "      <td>NaN</td>\n",
       "      <td>125263</td>\n",
       "      <td>광양</td>\n",
       "      <td>NaN</td>\n",
       "      <td>02N190200159</td>\n",
       "      <td>1935</td>\n",
       "      <td>85</td>\n",
       "      <td>여</td>\n",
       "      <td>...</td>\n",
       "      <td>아침 식전</td>\n",
       "      <td>NaN</td>\n",
       "      <td>NaN</td>\n",
       "      <td>NaN</td>\n",
       "      <td>저녁 식전</td>\n",
       "      <td>NaN</td>\n",
       "      <td>NaN</td>\n",
       "      <td>NaN</td>\n",
       "      <td>NaN</td>\n",
       "      <td>NaN</td>\n",
       "    </tr>\n",
       "    <tr>\n",
       "      <th>271</th>\n",
       "      <td>254</td>\n",
       "      <td>125470</td>\n",
       "      <td>NaN</td>\n",
       "      <td>125470</td>\n",
       "      <td>광양</td>\n",
       "      <td>NaN</td>\n",
       "      <td>NaN</td>\n",
       "      <td>1932</td>\n",
       "      <td>88</td>\n",
       "      <td>여</td>\n",
       "      <td>...</td>\n",
       "      <td>NaN</td>\n",
       "      <td>NaN</td>\n",
       "      <td>NaN</td>\n",
       "      <td>NaN</td>\n",
       "      <td>NaN</td>\n",
       "      <td>NaN</td>\n",
       "      <td>NaN</td>\n",
       "      <td>NaN</td>\n",
       "      <td>NaN</td>\n",
       "      <td>NaN</td>\n",
       "    </tr>\n",
       "  </tbody>\n",
       "</table>\n",
       "<p>5 rows × 140 columns</p>\n",
       "</div>"
      ],
      "text/plain": [
       "      no  id_new        id  id_guro  GP       sub_gp        SERIAL  born  age  \\\n",
       "432  289  127298  127298.0      199  구로  구로어르신돌봄통합센터           NaN  1935   84   \n",
       "90   242  125160       NaN   125160  광양          NaN  02N190200129  1937   83   \n",
       "339  383  126816  126816.0       60  구로     구로건강복지센터           NaN  1932   87   \n",
       "166  508  125263       NaN   125263  광양          NaN  02N190200159  1935   85   \n",
       "271  254  125470       NaN   125470  광양          NaN           NaN  1932   88   \n",
       "\n",
       "    sex  ...  dq7_1  dq7_2 dq7_3 dq7_4  dq7_5  dq7_6 dq7_7 DISE1 DISE2 DISE3  \n",
       "432   여  ...    NaN  아침 식후   NaN   NaN    NaN  저녁 식후   NaN   NaN   NaN   NaN  \n",
       "90    여  ...    NaN    NaN   NaN   NaN    NaN    NaN   NaN   NaN   NaN   NaN  \n",
       "339   남  ...    NaN  아침 식후   NaN   NaN    NaN  저녁 식후   NaN   NaN   NaN   NaN  \n",
       "166   여  ...  아침 식전    NaN   NaN   NaN  저녁 식전    NaN   NaN   NaN   NaN   NaN  \n",
       "271   여  ...    NaN    NaN   NaN   NaN    NaN    NaN   NaN   NaN   NaN   NaN  \n",
       "\n",
       "[5 rows x 140 columns]"
      ]
     },
     "execution_count": 472,
     "metadata": {},
     "output_type": "execute_result"
    }
   ],
   "source": [
    "df_survey.sample(5)"
   ]
  },
  {
   "cell_type": "code",
   "execution_count": 473,
   "id": "5b499ad9",
   "metadata": {},
   "outputs": [],
   "source": [
    "# 컬럼 이름 바꾸기\n",
    "df_survey.rename(columns={'id_new':'id', 'id':'id_old'}, inplace=True)"
   ]
  },
  {
   "cell_type": "code",
   "execution_count": 474,
   "id": "81d9fb01",
   "metadata": {},
   "outputs": [],
   "source": [
    "# 사용하지 않는 컬럼 삭제\n",
    "df_survey.drop(['no','id_old','id_guro','SERIAL','born'], axis=1, inplace=True)"
   ]
  },
  {
   "cell_type": "code",
   "execution_count": 475,
   "id": "280f4442",
   "metadata": {},
   "outputs": [
    {
     "data": {
      "text/html": [
       "<div>\n",
       "<style scoped>\n",
       "    .dataframe tbody tr th:only-of-type {\n",
       "        vertical-align: middle;\n",
       "    }\n",
       "\n",
       "    .dataframe tbody tr th {\n",
       "        vertical-align: top;\n",
       "    }\n",
       "\n",
       "    .dataframe thead th {\n",
       "        text-align: right;\n",
       "    }\n",
       "</style>\n",
       "<table border=\"1\" class=\"dataframe\">\n",
       "  <thead>\n",
       "    <tr style=\"text-align: right;\">\n",
       "      <th></th>\n",
       "      <th>id</th>\n",
       "      <th>GP</th>\n",
       "      <th>sub_gp</th>\n",
       "      <th>age</th>\n",
       "      <th>sex</th>\n",
       "      <th>type1</th>\n",
       "      <th>type2</th>\n",
       "      <th>type3</th>\n",
       "      <th>pa1</th>\n",
       "      <th>pa2</th>\n",
       "      <th>...</th>\n",
       "      <th>dq7_1</th>\n",
       "      <th>dq7_2</th>\n",
       "      <th>dq7_3</th>\n",
       "      <th>dq7_4</th>\n",
       "      <th>dq7_5</th>\n",
       "      <th>dq7_6</th>\n",
       "      <th>dq7_7</th>\n",
       "      <th>DISE1</th>\n",
       "      <th>DISE2</th>\n",
       "      <th>DISE3</th>\n",
       "    </tr>\n",
       "  </thead>\n",
       "  <tbody>\n",
       "    <tr>\n",
       "      <th>0</th>\n",
       "      <td>125030</td>\n",
       "      <td>광양</td>\n",
       "      <td>NaN</td>\n",
       "      <td>75</td>\n",
       "      <td>여</td>\n",
       "      <td>NaN</td>\n",
       "      <td>NaN</td>\n",
       "      <td>NaN</td>\n",
       "      <td>NaN</td>\n",
       "      <td>NaN</td>\n",
       "      <td>...</td>\n",
       "      <td>NaN</td>\n",
       "      <td>아침 식후</td>\n",
       "      <td>NaN</td>\n",
       "      <td>NaN</td>\n",
       "      <td>NaN</td>\n",
       "      <td>NaN</td>\n",
       "      <td>NaN</td>\n",
       "      <td>NaN</td>\n",
       "      <td>NaN</td>\n",
       "      <td>NaN</td>\n",
       "    </tr>\n",
       "    <tr>\n",
       "      <th>1</th>\n",
       "      <td>125031</td>\n",
       "      <td>광양</td>\n",
       "      <td>NaN</td>\n",
       "      <td>76</td>\n",
       "      <td>여</td>\n",
       "      <td>NaN</td>\n",
       "      <td>NaN</td>\n",
       "      <td>NaN</td>\n",
       "      <td>NaN</td>\n",
       "      <td>NaN</td>\n",
       "      <td>...</td>\n",
       "      <td>NaN</td>\n",
       "      <td>아침 식후</td>\n",
       "      <td>NaN</td>\n",
       "      <td>NaN</td>\n",
       "      <td>NaN</td>\n",
       "      <td>저녁 식후</td>\n",
       "      <td>NaN</td>\n",
       "      <td>NaN</td>\n",
       "      <td>NaN</td>\n",
       "      <td>NaN</td>\n",
       "    </tr>\n",
       "    <tr>\n",
       "      <th>2</th>\n",
       "      <td>125032</td>\n",
       "      <td>광양</td>\n",
       "      <td>NaN</td>\n",
       "      <td>78</td>\n",
       "      <td>여</td>\n",
       "      <td>NaN</td>\n",
       "      <td>NaN</td>\n",
       "      <td>NaN</td>\n",
       "      <td>NaN</td>\n",
       "      <td>NaN</td>\n",
       "      <td>...</td>\n",
       "      <td>NaN</td>\n",
       "      <td>아침 식후</td>\n",
       "      <td>NaN</td>\n",
       "      <td>NaN</td>\n",
       "      <td>NaN</td>\n",
       "      <td>NaN</td>\n",
       "      <td>NaN</td>\n",
       "      <td>NaN</td>\n",
       "      <td>NaN</td>\n",
       "      <td>NaN</td>\n",
       "    </tr>\n",
       "  </tbody>\n",
       "</table>\n",
       "<p>3 rows × 135 columns</p>\n",
       "</div>"
      ],
      "text/plain": [
       "       id  GP sub_gp  age sex type1 type2 type3  pa1  pa2  ... dq7_1  dq7_2  \\\n",
       "0  125030  광양    NaN   75   여   NaN   NaN   NaN  NaN  NaN  ...   NaN  아침 식후   \n",
       "1  125031  광양    NaN   76   여   NaN   NaN   NaN  NaN  NaN  ...   NaN  아침 식후   \n",
       "2  125032  광양    NaN   78   여   NaN   NaN   NaN  NaN  NaN  ...   NaN  아침 식후   \n",
       "\n",
       "  dq7_3 dq7_4 dq7_5  dq7_6 dq7_7 DISE1 DISE2 DISE3  \n",
       "0   NaN   NaN   NaN    NaN   NaN   NaN   NaN   NaN  \n",
       "1   NaN   NaN   NaN  저녁 식후   NaN   NaN   NaN   NaN  \n",
       "2   NaN   NaN   NaN    NaN   NaN   NaN   NaN   NaN  \n",
       "\n",
       "[3 rows x 135 columns]"
      ]
     },
     "execution_count": 475,
     "metadata": {},
     "output_type": "execute_result"
    }
   ],
   "source": [
    "df_survey.head(3)"
   ]
  },
  {
   "cell_type": "code",
   "execution_count": null,
   "id": "8c3949b4",
   "metadata": {},
   "outputs": [],
   "source": []
  },
  {
   "cell_type": "code",
   "execution_count": null,
   "id": "fee56604",
   "metadata": {},
   "outputs": [],
   "source": []
  },
  {
   "cell_type": "markdown",
   "id": "4c32c72d",
   "metadata": {},
   "source": [
    "# 로그 관련"
   ]
  },
  {
   "cell_type": "markdown",
   "id": "e1b1aba7",
   "metadata": {},
   "source": [
    "## log_doll"
   ]
  },
  {
   "cell_type": "code",
   "execution_count": 72,
   "id": "3121a0af",
   "metadata": {},
   "outputs": [],
   "source": [
    "sql_log_doll = '''\n",
    "select * from rome_test.log_doll\n",
    "\twhere doll_id in (\n",
    "\t\tselect id from rome_test.scc_doll \n",
    "\t\twhere host_user_id not in (7259,7260,7261,7262,7264,7265,7266,7267,7268,7269,7270,7271,7272,7275,7276,7277,7278,7279,7280,7282,7283,7284,7285,7286,7287,7288,7289,7290,7291,7292,7293,7294,7295,7296,7297,7298,7299,7300,7301,7302,7303,7304,7305,7306,7307,7308,7309,7310,7311,7312,7313,7314,7315,7316,7317,7318,7319,7320,7321,7322,7323,7324,7325,7326,7327,7328,7329,7330,7331,7332,7333,7334,7335,7336,7338,7341,7342,7343,7345,7346,7347,7348,7350,7388,7443,7511,7525,7530,7591,7979,8013)\n",
    "\t\t\tand host_user_id not in (select id from rome_test.scc_user where agency_code = '')\n",
    "\t\t\tand regsted_date between '2019-04-01 00:00:00' and '2021-05-31 23:59:59'\n",
    "\t\t)\n",
    "'''"
   ]
  },
  {
   "cell_type": "code",
   "execution_count": 73,
   "id": "b5ea519b",
   "metadata": {},
   "outputs": [],
   "source": [
    "log_doll = pd.read_sql(sql_log_doll, con)"
   ]
  },
  {
   "cell_type": "code",
   "execution_count": 210,
   "id": "c22c984f",
   "metadata": {},
   "outputs": [],
   "source": [
    "df_log_doll = log_doll.copy()"
   ]
  },
  {
   "cell_type": "code",
   "execution_count": 221,
   "id": "e2ccffd2",
   "metadata": {
    "scrolled": true
   },
   "outputs": [
    {
     "data": {
      "text/html": [
       "<div>\n",
       "<style scoped>\n",
       "    .dataframe tbody tr th:only-of-type {\n",
       "        vertical-align: middle;\n",
       "    }\n",
       "\n",
       "    .dataframe tbody tr th {\n",
       "        vertical-align: top;\n",
       "    }\n",
       "\n",
       "    .dataframe thead th {\n",
       "        text-align: right;\n",
       "    }\n",
       "</style>\n",
       "<table border=\"1\" class=\"dataframe\">\n",
       "  <thead>\n",
       "    <tr style=\"text-align: right;\">\n",
       "      <th></th>\n",
       "      <th>doll_id</th>\n",
       "      <th>stroke</th>\n",
       "      <th>hand_hold</th>\n",
       "      <th>knock</th>\n",
       "      <th>human_detection</th>\n",
       "      <th>gymnastics</th>\n",
       "      <th>brain_timer</th>\n",
       "      <th>battery</th>\n",
       "      <th>date</th>\n",
       "      <th>last_none_action_time</th>\n",
       "    </tr>\n",
       "  </thead>\n",
       "  <tbody>\n",
       "    <tr>\n",
       "      <th>26387537</th>\n",
       "      <td>127241</td>\n",
       "      <td>0</td>\n",
       "      <td>0</td>\n",
       "      <td>0</td>\n",
       "      <td>0</td>\n",
       "      <td>0</td>\n",
       "      <td>0</td>\n",
       "      <td>99</td>\n",
       "      <td>2020-05-07 18:25:32</td>\n",
       "      <td>2020-05-07 18:20:09</td>\n",
       "    </tr>\n",
       "    <tr>\n",
       "      <th>19474583</th>\n",
       "      <td>126823</td>\n",
       "      <td>0</td>\n",
       "      <td>0</td>\n",
       "      <td>0</td>\n",
       "      <td>1</td>\n",
       "      <td>0</td>\n",
       "      <td>0</td>\n",
       "      <td>100</td>\n",
       "      <td>2020-03-07 00:55:27</td>\n",
       "      <td>2020-03-07 00:55:27</td>\n",
       "    </tr>\n",
       "    <tr>\n",
       "      <th>75027707</th>\n",
       "      <td>127039</td>\n",
       "      <td>0</td>\n",
       "      <td>0</td>\n",
       "      <td>0</td>\n",
       "      <td>0</td>\n",
       "      <td>0</td>\n",
       "      <td>0</td>\n",
       "      <td>100</td>\n",
       "      <td>2021-02-24 17:51:13</td>\n",
       "      <td>2021-02-24 14:36:01</td>\n",
       "    </tr>\n",
       "    <tr>\n",
       "      <th>91647035</th>\n",
       "      <td>127309</td>\n",
       "      <td>0</td>\n",
       "      <td>0</td>\n",
       "      <td>0</td>\n",
       "      <td>0</td>\n",
       "      <td>0</td>\n",
       "      <td>0</td>\n",
       "      <td>82</td>\n",
       "      <td>2021-05-09 02:35:51</td>\n",
       "      <td>2021-05-08 07:49:15</td>\n",
       "    </tr>\n",
       "    <tr>\n",
       "      <th>16176841</th>\n",
       "      <td>125184</td>\n",
       "      <td>0</td>\n",
       "      <td>0</td>\n",
       "      <td>0</td>\n",
       "      <td>56</td>\n",
       "      <td>0</td>\n",
       "      <td>0</td>\n",
       "      <td>74</td>\n",
       "      <td>2020-02-05 04:23:18</td>\n",
       "      <td>2020-02-05 04:23:18</td>\n",
       "    </tr>\n",
       "  </tbody>\n",
       "</table>\n",
       "</div>"
      ],
      "text/plain": [
       "         doll_id  stroke  hand_hold  knock  human_detection  gymnastics  \\\n",
       "26387537  127241       0          0      0                0           0   \n",
       "19474583  126823       0          0      0                1           0   \n",
       "75027707  127039       0          0      0                0           0   \n",
       "91647035  127309       0          0      0                0           0   \n",
       "16176841  125184       0          0      0               56           0   \n",
       "\n",
       "          brain_timer  battery                date last_none_action_time  \n",
       "26387537            0       99 2020-05-07 18:25:32   2020-05-07 18:20:09  \n",
       "19474583            0      100 2020-03-07 00:55:27   2020-03-07 00:55:27  \n",
       "75027707            0      100 2021-02-24 17:51:13   2021-02-24 14:36:01  \n",
       "91647035            0       82 2021-05-09 02:35:51   2021-05-08 07:49:15  \n",
       "16176841            0       74 2020-02-05 04:23:18   2020-02-05 04:23:18  "
      ]
     },
     "execution_count": 221,
     "metadata": {},
     "output_type": "execute_result"
    }
   ],
   "source": [
    "df_log_doll.sample(5)"
   ]
  },
  {
   "cell_type": "code",
   "execution_count": 228,
   "id": "e900b80e",
   "metadata": {},
   "outputs": [
    {
     "data": {
      "text/plain": [
       "(92574951, 10)"
      ]
     },
     "execution_count": 228,
     "metadata": {},
     "output_type": "execute_result"
    }
   ],
   "source": [
    "# 전체 갯수\n",
    "df_log_doll.shape"
   ]
  },
  {
   "cell_type": "code",
   "execution_count": 257,
   "id": "8960b321",
   "metadata": {},
   "outputs": [
    {
     "data": {
      "text/plain": [
       "<AxesSubplot:>"
      ]
     },
     "execution_count": 257,
     "metadata": {},
     "output_type": "execute_result"
    },
    {
     "data": {
      "image/png": "[encoded data removed]",
      "text/plain": [
       "<Figure size 1080x576 with 1 Axes>"
      ]
     },
     "metadata": {},
     "output_type": "display_data"
    }
   ],
   "source": [
    "sns.set(rc = {'figure.figsize':(15,8)})\n",
    "sns.boxplot(data=df_log_doll.iloc[:, 1:6])"
   ]
  },
  {
   "cell_type": "markdown",
   "id": "6846000b",
   "metadata": {},
   "source": [
    "* 음수 제외"
   ]
  },
  {
   "cell_type": "code",
   "execution_count": null,
   "id": "03d7e283",
   "metadata": {},
   "outputs": [],
   "source": [
    "# 변수별 음수값 갯수\n",
    "for i in df_log_doll.columns[1:7]:\n",
    "    neg_cnt = df_log_doll[df_log_doll[i] < 0].shape[0]\n",
    "    print(i, neg_cnt)"
   ]
  },
  {
   "cell_type": "code",
   "execution_count": 281,
   "id": "5b203cdd",
   "metadata": {},
   "outputs": [],
   "source": [
    "# 음수값 있는 row 조건 \n",
    "neg = ((df_log_doll['stroke'] < 0) \n",
    "        |(df_log_doll['hand_hold'] < 0)\n",
    "        |(df_log_doll['knock'] < 0)\n",
    "        |(df_log_doll['human_detection'] < 0)\n",
    "        |(df_log_doll['gymnastics'] < 0)\n",
    "        |(df_log_doll['brain_timer'] < 0)) # 25025"
   ]
  },
  {
   "cell_type": "code",
   "execution_count": 283,
   "id": "1f791f29",
   "metadata": {},
   "outputs": [
    {
     "data": {
      "text/html": [
       "<div>\n",
       "<style scoped>\n",
       "    .dataframe tbody tr th:only-of-type {\n",
       "        vertical-align: middle;\n",
       "    }\n",
       "\n",
       "    .dataframe tbody tr th {\n",
       "        vertical-align: top;\n",
       "    }\n",
       "\n",
       "    .dataframe thead th {\n",
       "        text-align: right;\n",
       "    }\n",
       "</style>\n",
       "<table border=\"1\" class=\"dataframe\">\n",
       "  <thead>\n",
       "    <tr style=\"text-align: right;\">\n",
       "      <th></th>\n",
       "      <th>doll_id</th>\n",
       "      <th>stroke</th>\n",
       "      <th>hand_hold</th>\n",
       "      <th>knock</th>\n",
       "      <th>human_detection</th>\n",
       "      <th>gymnastics</th>\n",
       "      <th>brain_timer</th>\n",
       "      <th>battery</th>\n",
       "      <th>date</th>\n",
       "      <th>last_none_action_time</th>\n",
       "    </tr>\n",
       "  </thead>\n",
       "  <tbody>\n",
       "    <tr>\n",
       "      <th>33809</th>\n",
       "      <td>125206</td>\n",
       "      <td>15</td>\n",
       "      <td>72</td>\n",
       "      <td>5</td>\n",
       "      <td>-120</td>\n",
       "      <td>2</td>\n",
       "      <td>2</td>\n",
       "      <td>100</td>\n",
       "      <td>2019-04-07 02:12:21</td>\n",
       "      <td>2019-04-07 02:12:21</td>\n",
       "    </tr>\n",
       "    <tr>\n",
       "      <th>42686</th>\n",
       "      <td>125206</td>\n",
       "      <td>13</td>\n",
       "      <td>44</td>\n",
       "      <td>16</td>\n",
       "      <td>-118</td>\n",
       "      <td>0</td>\n",
       "      <td>2</td>\n",
       "      <td>89</td>\n",
       "      <td>2019-04-07 14:48:04</td>\n",
       "      <td>2019-04-07 14:48:04</td>\n",
       "    </tr>\n",
       "    <tr>\n",
       "      <th>45612</th>\n",
       "      <td>125206</td>\n",
       "      <td>6</td>\n",
       "      <td>5</td>\n",
       "      <td>1</td>\n",
       "      <td>-14</td>\n",
       "      <td>0</td>\n",
       "      <td>0</td>\n",
       "      <td>80</td>\n",
       "      <td>2019-04-07 18:58:36</td>\n",
       "      <td>2019-04-07 18:58:36</td>\n",
       "    </tr>\n",
       "    <tr>\n",
       "      <th>89732</th>\n",
       "      <td>125065</td>\n",
       "      <td>-99</td>\n",
       "      <td>0</td>\n",
       "      <td>17</td>\n",
       "      <td>22</td>\n",
       "      <td>0</td>\n",
       "      <td>0</td>\n",
       "      <td>100</td>\n",
       "      <td>2019-04-10 19:19:15</td>\n",
       "      <td>2019-04-10 19:19:15</td>\n",
       "    </tr>\n",
       "    <tr>\n",
       "      <th>89736</th>\n",
       "      <td>125157</td>\n",
       "      <td>1</td>\n",
       "      <td>0</td>\n",
       "      <td>-104</td>\n",
       "      <td>20</td>\n",
       "      <td>0</td>\n",
       "      <td>0</td>\n",
       "      <td>100</td>\n",
       "      <td>2019-04-10 19:19:37</td>\n",
       "      <td>2019-04-10 19:19:37</td>\n",
       "    </tr>\n",
       "    <tr>\n",
       "      <th>...</th>\n",
       "      <td>...</td>\n",
       "      <td>...</td>\n",
       "      <td>...</td>\n",
       "      <td>...</td>\n",
       "      <td>...</td>\n",
       "      <td>...</td>\n",
       "      <td>...</td>\n",
       "      <td>...</td>\n",
       "      <td>...</td>\n",
       "      <td>...</td>\n",
       "    </tr>\n",
       "    <tr>\n",
       "      <th>92561143</th>\n",
       "      <td>128546</td>\n",
       "      <td>2</td>\n",
       "      <td>0</td>\n",
       "      <td>3</td>\n",
       "      <td>-123</td>\n",
       "      <td>0</td>\n",
       "      <td>0</td>\n",
       "      <td>100</td>\n",
       "      <td>2021-05-12 19:49:15</td>\n",
       "      <td>2021-05-12 19:49:15</td>\n",
       "    </tr>\n",
       "    <tr>\n",
       "      <th>92563703</th>\n",
       "      <td>133000</td>\n",
       "      <td>0</td>\n",
       "      <td>0</td>\n",
       "      <td>0</td>\n",
       "      <td>-128</td>\n",
       "      <td>0</td>\n",
       "      <td>0</td>\n",
       "      <td>100</td>\n",
       "      <td>2021-05-12 20:11:59</td>\n",
       "      <td>2021-05-12 20:11:59</td>\n",
       "    </tr>\n",
       "    <tr>\n",
       "      <th>92564599</th>\n",
       "      <td>128546</td>\n",
       "      <td>0</td>\n",
       "      <td>0</td>\n",
       "      <td>0</td>\n",
       "      <td>-122</td>\n",
       "      <td>0</td>\n",
       "      <td>0</td>\n",
       "      <td>100</td>\n",
       "      <td>2021-05-12 20:17:10</td>\n",
       "      <td>2021-05-12 20:17:10</td>\n",
       "    </tr>\n",
       "    <tr>\n",
       "      <th>92569538</th>\n",
       "      <td>128546</td>\n",
       "      <td>0</td>\n",
       "      <td>0</td>\n",
       "      <td>0</td>\n",
       "      <td>-124</td>\n",
       "      <td>0</td>\n",
       "      <td>0</td>\n",
       "      <td>100</td>\n",
       "      <td>2021-05-12 20:45:13</td>\n",
       "      <td>2021-05-12 20:45:13</td>\n",
       "    </tr>\n",
       "    <tr>\n",
       "      <th>92574391</th>\n",
       "      <td>128546</td>\n",
       "      <td>0</td>\n",
       "      <td>0</td>\n",
       "      <td>0</td>\n",
       "      <td>-123</td>\n",
       "      <td>0</td>\n",
       "      <td>0</td>\n",
       "      <td>100</td>\n",
       "      <td>2021-05-12 21:13:08</td>\n",
       "      <td>2021-05-12 21:13:08</td>\n",
       "    </tr>\n",
       "  </tbody>\n",
       "</table>\n",
       "<p>25025 rows × 10 columns</p>\n",
       "</div>"
      ],
      "text/plain": [
       "         doll_id  stroke  hand_hold  knock  human_detection  gymnastics  \\\n",
       "33809     125206      15         72      5             -120           2   \n",
       "42686     125206      13         44     16             -118           0   \n",
       "45612     125206       6          5      1              -14           0   \n",
       "89732     125065     -99          0     17               22           0   \n",
       "89736     125157       1          0   -104               20           0   \n",
       "...          ...     ...        ...    ...              ...         ...   \n",
       "92561143  128546       2          0      3             -123           0   \n",
       "92563703  133000       0          0      0             -128           0   \n",
       "92564599  128546       0          0      0             -122           0   \n",
       "92569538  128546       0          0      0             -124           0   \n",
       "92574391  128546       0          0      0             -123           0   \n",
       "\n",
       "          brain_timer  battery                date last_none_action_time  \n",
       "33809               2      100 2019-04-07 02:12:21   2019-04-07 02:12:21  \n",
       "42686               2       89 2019-04-07 14:48:04   2019-04-07 14:48:04  \n",
       "45612               0       80 2019-04-07 18:58:36   2019-04-07 18:58:36  \n",
       "89732               0      100 2019-04-10 19:19:15   2019-04-10 19:19:15  \n",
       "89736               0      100 2019-04-10 19:19:37   2019-04-10 19:19:37  \n",
       "...               ...      ...                 ...                   ...  \n",
       "92561143            0      100 2021-05-12 19:49:15   2021-05-12 19:49:15  \n",
       "92563703            0      100 2021-05-12 20:11:59   2021-05-12 20:11:59  \n",
       "92564599            0      100 2021-05-12 20:17:10   2021-05-12 20:17:10  \n",
       "92569538            0      100 2021-05-12 20:45:13   2021-05-12 20:45:13  \n",
       "92574391            0      100 2021-05-12 21:13:08   2021-05-12 21:13:08  \n",
       "\n",
       "[25025 rows x 10 columns]"
      ]
     },
     "execution_count": 283,
     "metadata": {},
     "output_type": "execute_result"
    }
   ],
   "source": [
    "# 음수값 예시\n",
    "df_log_doll[neg]"
   ]
  },
  {
   "cell_type": "code",
   "execution_count": 284,
   "id": "67db7fdf",
   "metadata": {},
   "outputs": [],
   "source": [
    "# 음수값 제외\n",
    "df_log_doll = df_log_doll[~neg]"
   ]
  },
  {
   "cell_type": "markdown",
   "id": "a1b21cfd",
   "metadata": {},
   "source": [
    "* group by"
   ]
  },
  {
   "cell_type": "code",
   "execution_count": 534,
   "id": "4ea3db60",
   "metadata": {},
   "outputs": [],
   "source": [
    "# doll id 그룹 내 기간(day) 계산을 위한 함수\n",
    "def days(s):\n",
    "    return pd.Timedelta((s.max()-s.min()), unit='d').days"
   ]
  },
  {
   "cell_type": "code",
   "execution_count": 535,
   "id": "082e8eaa",
   "metadata": {},
   "outputs": [
    {
     "data": {
      "text/plain": [
       "4334094   2019-10-10 15:48:50\n",
       "4334188   2019-10-10 15:51:32\n",
       "4334312   2019-10-10 15:55:45\n",
       "4334495   2019-10-10 16:00:41\n",
       "4334706   2019-10-10 16:06:45\n",
       "                  ...        \n",
       "4663655   2019-10-16 14:55:18\n",
       "4663887   2019-10-16 15:00:45\n",
       "4664128   2019-10-16 15:06:09\n",
       "4664394   2019-10-16 15:12:23\n",
       "4664643   2019-10-16 15:18:06\n",
       "Name: date, Length: 1568, dtype: datetime64[ns]"
      ]
     },
     "execution_count": 535,
     "metadata": {},
     "output_type": "execute_result"
    }
   ],
   "source": [
    "df_log_doll.loc[df_log_doll['doll_id'] == '127034', 'date']"
   ]
  },
  {
   "cell_type": "code",
   "execution_count": 317,
   "id": "6225a2f8",
   "metadata": {},
   "outputs": [
    {
     "data": {
      "text/plain": [
       "5"
      ]
     },
     "execution_count": 317,
     "metadata": {},
     "output_type": "execute_result"
    }
   ],
   "source": [
    "# 테스트\n",
    "t = df_log_doll.loc[df_log_doll['doll_id'] == '127034', 'date']\n",
    "pd.Timedelta((t.max()\\\n",
    "              - t.min()), unit='d').days"
   ]
  },
  {
   "cell_type": "code",
   "execution_count": 536,
   "id": "2e0513f4",
   "metadata": {},
   "outputs": [],
   "source": [
    "df_log_doll_gr = df_log_doll\\\n",
    "                    .groupby(['doll_id'], as_index=False)\\\n",
    "                    .agg({'stroke':'sum'\n",
    "                            ,'hand_hold':'sum'\n",
    "                            ,'knock':'sum'\n",
    "                            ,'human_detection':'sum'\n",
    "                            ,'gymnastics':'sum'\n",
    "                            ,'brain_timer':'sum'\n",
    "                            ,'date': days}        \n",
    "                            )    "
   ]
  },
  {
   "cell_type": "code",
   "execution_count": 537,
   "id": "a13a0127",
   "metadata": {},
   "outputs": [
    {
     "name": "stdout",
     "output_type": "stream",
     "text": [
      "<class 'pandas.core.frame.DataFrame'>\n",
      "Int64Index: 7774 entries, 0 to 7773\n",
      "Data columns (total 8 columns):\n",
      " #   Column           Non-Null Count  Dtype \n",
      "---  ------           --------------  ----- \n",
      " 0   doll_id          7774 non-null   object\n",
      " 1   stroke           7774 non-null   int64 \n",
      " 2   hand_hold        7774 non-null   int64 \n",
      " 3   knock            7774 non-null   int64 \n",
      " 4   human_detection  7774 non-null   int64 \n",
      " 5   gymnastics       7774 non-null   int64 \n",
      " 6   brain_timer      7774 non-null   int64 \n",
      " 7   date             7774 non-null   int64 \n",
      "dtypes: int64(7), object(1)\n",
      "memory usage: 546.6+ KB\n"
     ]
    }
   ],
   "source": [
    "df_log_doll_gr.info()"
   ]
  },
  {
   "cell_type": "code",
   "execution_count": 538,
   "id": "c4e5dcc3",
   "metadata": {},
   "outputs": [
    {
     "data": {
      "text/plain": [
       "7774"
      ]
     },
     "execution_count": 538,
     "metadata": {},
     "output_type": "execute_result"
    }
   ],
   "source": [
    "df_log_doll_gr.shape[0]"
   ]
  },
  {
   "cell_type": "code",
   "execution_count": 539,
   "id": "6b253143",
   "metadata": {},
   "outputs": [
    {
     "data": {
      "text/html": [
       "<div>\n",
       "<style scoped>\n",
       "    .dataframe tbody tr th:only-of-type {\n",
       "        vertical-align: middle;\n",
       "    }\n",
       "\n",
       "    .dataframe tbody tr th {\n",
       "        vertical-align: top;\n",
       "    }\n",
       "\n",
       "    .dataframe thead th {\n",
       "        text-align: right;\n",
       "    }\n",
       "</style>\n",
       "<table border=\"1\" class=\"dataframe\">\n",
       "  <thead>\n",
       "    <tr style=\"text-align: right;\">\n",
       "      <th></th>\n",
       "      <th>doll_id</th>\n",
       "      <th>stroke</th>\n",
       "      <th>hand_hold</th>\n",
       "      <th>knock</th>\n",
       "      <th>human_detection</th>\n",
       "      <th>gymnastics</th>\n",
       "      <th>brain_timer</th>\n",
       "      <th>date</th>\n",
       "    </tr>\n",
       "  </thead>\n",
       "  <tbody>\n",
       "    <tr>\n",
       "      <th>0</th>\n",
       "      <td>125023</td>\n",
       "      <td>5</td>\n",
       "      <td>1</td>\n",
       "      <td>15</td>\n",
       "      <td>0</td>\n",
       "      <td>0</td>\n",
       "      <td>0</td>\n",
       "      <td>0</td>\n",
       "    </tr>\n",
       "    <tr>\n",
       "      <th>1</th>\n",
       "      <td>125024</td>\n",
       "      <td>2</td>\n",
       "      <td>0</td>\n",
       "      <td>0</td>\n",
       "      <td>0</td>\n",
       "      <td>0</td>\n",
       "      <td>0</td>\n",
       "      <td>0</td>\n",
       "    </tr>\n",
       "    <tr>\n",
       "      <th>2</th>\n",
       "      <td>125025</td>\n",
       "      <td>12</td>\n",
       "      <td>1</td>\n",
       "      <td>6</td>\n",
       "      <td>314</td>\n",
       "      <td>0</td>\n",
       "      <td>0</td>\n",
       "      <td>0</td>\n",
       "    </tr>\n",
       "  </tbody>\n",
       "</table>\n",
       "</div>"
      ],
      "text/plain": [
       "  doll_id  stroke  hand_hold  knock  human_detection  gymnastics  brain_timer  \\\n",
       "0  125023       5          1     15                0           0            0   \n",
       "1  125024       2          0      0                0           0            0   \n",
       "2  125025      12          1      6              314           0            0   \n",
       "\n",
       "   date  \n",
       "0     0  \n",
       "1     0  \n",
       "2     0  "
      ]
     },
     "execution_count": 539,
     "metadata": {},
     "output_type": "execute_result"
    }
   ],
   "source": [
    "df_log_doll_gr.head(3)"
   ]
  },
  {
   "cell_type": "code",
   "execution_count": 540,
   "id": "eef186a3",
   "metadata": {},
   "outputs": [],
   "source": [
    "# id 데이터 타입 변경\n",
    "df_log_doll_gr['doll_id'] = df_log_doll_gr['doll_id'].astype(np.int64)"
   ]
  },
  {
   "cell_type": "code",
   "execution_count": 541,
   "id": "90ec602e",
   "metadata": {},
   "outputs": [],
   "source": [
    "df_log_doll_gr.rename(columns = \\\n",
    "                         { 'doll_id':'id'\n",
    "                        ,'stroke':'l_stroke'\n",
    "                        ,'hand_hold':'l_hand_hold'\n",
    "                        ,'knock':'l_knock'\n",
    "                        ,'human_detection':'l_human_detection'\n",
    "                        ,'gymnastics':'l_gymnastics'\n",
    "                        ,'brain_timer':'l_brain_timer'\n",
    "                        ,'battery':'l_battery'\n",
    "                        ,'date':'l_days'}\n",
    "                        , inplace=True)"
   ]
  },
  {
   "cell_type": "code",
   "execution_count": 542,
   "id": "d2e5e215",
   "metadata": {},
   "outputs": [
    {
     "data": {
      "text/html": [
       "<div>\n",
       "<style scoped>\n",
       "    .dataframe tbody tr th:only-of-type {\n",
       "        vertical-align: middle;\n",
       "    }\n",
       "\n",
       "    .dataframe tbody tr th {\n",
       "        vertical-align: top;\n",
       "    }\n",
       "\n",
       "    .dataframe thead th {\n",
       "        text-align: right;\n",
       "    }\n",
       "</style>\n",
       "<table border=\"1\" class=\"dataframe\">\n",
       "  <thead>\n",
       "    <tr style=\"text-align: right;\">\n",
       "      <th></th>\n",
       "      <th>id</th>\n",
       "      <th>l_stroke</th>\n",
       "      <th>l_hand_hold</th>\n",
       "      <th>l_knock</th>\n",
       "      <th>l_human_detection</th>\n",
       "      <th>l_gymnastics</th>\n",
       "      <th>l_brain_timer</th>\n",
       "      <th>l_days</th>\n",
       "    </tr>\n",
       "  </thead>\n",
       "  <tbody>\n",
       "    <tr>\n",
       "      <th>0</th>\n",
       "      <td>125023</td>\n",
       "      <td>5</td>\n",
       "      <td>1</td>\n",
       "      <td>15</td>\n",
       "      <td>0</td>\n",
       "      <td>0</td>\n",
       "      <td>0</td>\n",
       "      <td>0</td>\n",
       "    </tr>\n",
       "    <tr>\n",
       "      <th>1</th>\n",
       "      <td>125024</td>\n",
       "      <td>2</td>\n",
       "      <td>0</td>\n",
       "      <td>0</td>\n",
       "      <td>0</td>\n",
       "      <td>0</td>\n",
       "      <td>0</td>\n",
       "      <td>0</td>\n",
       "    </tr>\n",
       "    <tr>\n",
       "      <th>2</th>\n",
       "      <td>125025</td>\n",
       "      <td>12</td>\n",
       "      <td>1</td>\n",
       "      <td>6</td>\n",
       "      <td>314</td>\n",
       "      <td>0</td>\n",
       "      <td>0</td>\n",
       "      <td>0</td>\n",
       "    </tr>\n",
       "    <tr>\n",
       "      <th>3</th>\n",
       "      <td>125026</td>\n",
       "      <td>0</td>\n",
       "      <td>0</td>\n",
       "      <td>0</td>\n",
       "      <td>0</td>\n",
       "      <td>0</td>\n",
       "      <td>0</td>\n",
       "      <td>0</td>\n",
       "    </tr>\n",
       "    <tr>\n",
       "      <th>4</th>\n",
       "      <td>125027</td>\n",
       "      <td>113</td>\n",
       "      <td>123</td>\n",
       "      <td>672</td>\n",
       "      <td>0</td>\n",
       "      <td>993</td>\n",
       "      <td>1698</td>\n",
       "      <td>83</td>\n",
       "    </tr>\n",
       "    <tr>\n",
       "      <th>5</th>\n",
       "      <td>125028</td>\n",
       "      <td>0</td>\n",
       "      <td>0</td>\n",
       "      <td>1</td>\n",
       "      <td>0</td>\n",
       "      <td>0</td>\n",
       "      <td>0</td>\n",
       "      <td>7</td>\n",
       "    </tr>\n",
       "  </tbody>\n",
       "</table>\n",
       "</div>"
      ],
      "text/plain": [
       "       id  l_stroke  l_hand_hold  l_knock  l_human_detection  l_gymnastics  \\\n",
       "0  125023         5            1       15                  0             0   \n",
       "1  125024         2            0        0                  0             0   \n",
       "2  125025        12            1        6                314             0   \n",
       "3  125026         0            0        0                  0             0   \n",
       "4  125027       113          123      672                  0           993   \n",
       "5  125028         0            0        1                  0             0   \n",
       "\n",
       "   l_brain_timer  l_days  \n",
       "0              0       0  \n",
       "1              0       0  \n",
       "2              0       0  \n",
       "3              0       0  \n",
       "4           1698      83  \n",
       "5              0       7  "
      ]
     },
     "execution_count": 542,
     "metadata": {},
     "output_type": "execute_result"
    }
   ],
   "source": [
    "df_log_doll_gr.head(6)"
   ]
  },
  {
   "cell_type": "code",
   "execution_count": 543,
   "id": "18fb4558",
   "metadata": {},
   "outputs": [],
   "source": [
    "# 기간에 1 더해주기\n",
    "df_log_doll_gr['l_days'] = df_log_doll_gr['l_days'] + 1"
   ]
  },
  {
   "cell_type": "code",
   "execution_count": 545,
   "id": "d8ff1e7e",
   "metadata": {},
   "outputs": [],
   "source": [
    "# 기간내 평균값 구하기\n",
    "for i in df_log_doll_gr.columns[1:7]:\n",
    "    col_name = i.split('_')[1]\n",
    "    df_log_doll_gr['l_m_{}'.format(col_name)] = df_log_doll_gr[i] / df_log_doll_gr['l_days']"
   ]
  },
  {
   "cell_type": "code",
   "execution_count": 546,
   "id": "ac0551a1",
   "metadata": {},
   "outputs": [
    {
     "data": {
      "text/html": [
       "<div>\n",
       "<style scoped>\n",
       "    .dataframe tbody tr th:only-of-type {\n",
       "        vertical-align: middle;\n",
       "    }\n",
       "\n",
       "    .dataframe tbody tr th {\n",
       "        vertical-align: top;\n",
       "    }\n",
       "\n",
       "    .dataframe thead th {\n",
       "        text-align: right;\n",
       "    }\n",
       "</style>\n",
       "<table border=\"1\" class=\"dataframe\">\n",
       "  <thead>\n",
       "    <tr style=\"text-align: right;\">\n",
       "      <th></th>\n",
       "      <th>id</th>\n",
       "      <th>l_stroke</th>\n",
       "      <th>l_hand_hold</th>\n",
       "      <th>l_knock</th>\n",
       "      <th>l_human_detection</th>\n",
       "      <th>l_gymnastics</th>\n",
       "      <th>l_brain_timer</th>\n",
       "      <th>l_days</th>\n",
       "      <th>l_m_stroke</th>\n",
       "      <th>l_m_hand</th>\n",
       "      <th>l_m_knock</th>\n",
       "      <th>l_m_human</th>\n",
       "      <th>l_m_gymnastics</th>\n",
       "      <th>l_m_brain</th>\n",
       "    </tr>\n",
       "  </thead>\n",
       "  <tbody>\n",
       "    <tr>\n",
       "      <th>0</th>\n",
       "      <td>125023</td>\n",
       "      <td>5</td>\n",
       "      <td>1</td>\n",
       "      <td>15</td>\n",
       "      <td>0</td>\n",
       "      <td>0</td>\n",
       "      <td>0</td>\n",
       "      <td>1</td>\n",
       "      <td>5.000000</td>\n",
       "      <td>1.000000</td>\n",
       "      <td>15.000</td>\n",
       "      <td>0.0</td>\n",
       "      <td>0.000000</td>\n",
       "      <td>0.000000</td>\n",
       "    </tr>\n",
       "    <tr>\n",
       "      <th>1</th>\n",
       "      <td>125024</td>\n",
       "      <td>2</td>\n",
       "      <td>0</td>\n",
       "      <td>0</td>\n",
       "      <td>0</td>\n",
       "      <td>0</td>\n",
       "      <td>0</td>\n",
       "      <td>1</td>\n",
       "      <td>2.000000</td>\n",
       "      <td>0.000000</td>\n",
       "      <td>0.000</td>\n",
       "      <td>0.0</td>\n",
       "      <td>0.000000</td>\n",
       "      <td>0.000000</td>\n",
       "    </tr>\n",
       "    <tr>\n",
       "      <th>2</th>\n",
       "      <td>125025</td>\n",
       "      <td>12</td>\n",
       "      <td>1</td>\n",
       "      <td>6</td>\n",
       "      <td>314</td>\n",
       "      <td>0</td>\n",
       "      <td>0</td>\n",
       "      <td>1</td>\n",
       "      <td>12.000000</td>\n",
       "      <td>1.000000</td>\n",
       "      <td>6.000</td>\n",
       "      <td>314.0</td>\n",
       "      <td>0.000000</td>\n",
       "      <td>0.000000</td>\n",
       "    </tr>\n",
       "    <tr>\n",
       "      <th>3</th>\n",
       "      <td>125026</td>\n",
       "      <td>0</td>\n",
       "      <td>0</td>\n",
       "      <td>0</td>\n",
       "      <td>0</td>\n",
       "      <td>0</td>\n",
       "      <td>0</td>\n",
       "      <td>1</td>\n",
       "      <td>0.000000</td>\n",
       "      <td>0.000000</td>\n",
       "      <td>0.000</td>\n",
       "      <td>0.0</td>\n",
       "      <td>0.000000</td>\n",
       "      <td>0.000000</td>\n",
       "    </tr>\n",
       "    <tr>\n",
       "      <th>4</th>\n",
       "      <td>125027</td>\n",
       "      <td>113</td>\n",
       "      <td>123</td>\n",
       "      <td>672</td>\n",
       "      <td>0</td>\n",
       "      <td>993</td>\n",
       "      <td>1698</td>\n",
       "      <td>84</td>\n",
       "      <td>1.345238</td>\n",
       "      <td>1.464286</td>\n",
       "      <td>8.000</td>\n",
       "      <td>0.0</td>\n",
       "      <td>11.821429</td>\n",
       "      <td>20.214286</td>\n",
       "    </tr>\n",
       "    <tr>\n",
       "      <th>5</th>\n",
       "      <td>125028</td>\n",
       "      <td>0</td>\n",
       "      <td>0</td>\n",
       "      <td>1</td>\n",
       "      <td>0</td>\n",
       "      <td>0</td>\n",
       "      <td>0</td>\n",
       "      <td>8</td>\n",
       "      <td>0.000000</td>\n",
       "      <td>0.000000</td>\n",
       "      <td>0.125</td>\n",
       "      <td>0.0</td>\n",
       "      <td>0.000000</td>\n",
       "      <td>0.000000</td>\n",
       "    </tr>\n",
       "  </tbody>\n",
       "</table>\n",
       "</div>"
      ],
      "text/plain": [
       "       id  l_stroke  l_hand_hold  l_knock  l_human_detection  l_gymnastics  \\\n",
       "0  125023         5            1       15                  0             0   \n",
       "1  125024         2            0        0                  0             0   \n",
       "2  125025        12            1        6                314             0   \n",
       "3  125026         0            0        0                  0             0   \n",
       "4  125027       113          123      672                  0           993   \n",
       "5  125028         0            0        1                  0             0   \n",
       "\n",
       "   l_brain_timer  l_days  l_m_stroke  l_m_hand  l_m_knock  l_m_human  \\\n",
       "0              0       1    5.000000  1.000000     15.000        0.0   \n",
       "1              0       1    2.000000  0.000000      0.000        0.0   \n",
       "2              0       1   12.000000  1.000000      6.000      314.0   \n",
       "3              0       1    0.000000  0.000000      0.000        0.0   \n",
       "4           1698      84    1.345238  1.464286      8.000        0.0   \n",
       "5              0       8    0.000000  0.000000      0.125        0.0   \n",
       "\n",
       "   l_m_gymnastics  l_m_brain  \n",
       "0        0.000000   0.000000  \n",
       "1        0.000000   0.000000  \n",
       "2        0.000000   0.000000  \n",
       "3        0.000000   0.000000  \n",
       "4       11.821429  20.214286  \n",
       "5        0.000000   0.000000  "
      ]
     },
     "execution_count": 546,
     "metadata": {},
     "output_type": "execute_result"
    }
   ],
   "source": [
    "df_log_doll_gr.head(6)"
   ]
  },
  {
   "cell_type": "markdown",
   "id": "4515c83a",
   "metadata": {},
   "source": [
    "## log_doll_drug_consume"
   ]
  },
  {
   "cell_type": "code",
   "execution_count": 512,
   "id": "dde7b2c8",
   "metadata": {},
   "outputs": [],
   "source": [
    "sql_drug = '''\n",
    "select doll_id, count(1) as drug_consume, count(distinct(consume)) as drug_freq\n",
    "\t, max(date) as max_date, min(date) as min_date\n",
    "    , datediff( max(date),min(date)) as days\n",
    "from rome_test.log_doll_drug_consume\n",
    "where doll_id in (\n",
    "\tselect id \n",
    "\tfrom rome_test.scc_doll \n",
    "\twhere host_user_id not in (7259,7260,7261,7262,7264,7265,7266,7267,7268,7269,7270,7271,7272,7275,7276,7277,7278,7279,7280,7282,7283,7284,7285,7286,7287,7288,7289,7290,7291,7292,7293,7294,7295,7296,7297,7298,7299,7300,7301,7302,7303,7304,7305,7306,7307,7308,7309,7310,7311,7312,7313,7314,7315,7316,7317,7318,7319,7320,7321,7322,7323,7324,7325,7326,7327,7328,7329,7330,7331,7332,7333,7334,7335,7336,7338,7341,7342,7343,7345,7346,7347,7348,7350,7388,7443,7511,7525,7530,7591,7979,8013)\n",
    "\t\tand host_user_id not in (select id from rome_test.scc_user where agency_code = '')\n",
    "\t\tand regsted_date between '2019-04-01 00:00:00' and '2021-05-31 23:59:59'\n",
    "\t\t)\n",
    "group by doll_id\n",
    "'''"
   ]
  },
  {
   "cell_type": "code",
   "execution_count": 513,
   "id": "44fcb303",
   "metadata": {},
   "outputs": [],
   "source": [
    "log_drug = pd.read_sql(sql_drug, con)"
   ]
  },
  {
   "cell_type": "code",
   "execution_count": 562,
   "id": "9c4cfaa7",
   "metadata": {},
   "outputs": [],
   "source": [
    "df_log_drug = log_drug.copy()"
   ]
  },
  {
   "cell_type": "code",
   "execution_count": 563,
   "id": "7cfbadc6",
   "metadata": {},
   "outputs": [
    {
     "data": {
      "text/plain": [
       "(1842, 6)"
      ]
     },
     "execution_count": 563,
     "metadata": {},
     "output_type": "execute_result"
    }
   ],
   "source": [
    "df_log_drug.shape"
   ]
  },
  {
   "cell_type": "code",
   "execution_count": 564,
   "id": "27b5e78c",
   "metadata": {},
   "outputs": [
    {
     "data": {
      "text/html": [
       "<div>\n",
       "<style scoped>\n",
       "    .dataframe tbody tr th:only-of-type {\n",
       "        vertical-align: middle;\n",
       "    }\n",
       "\n",
       "    .dataframe tbody tr th {\n",
       "        vertical-align: top;\n",
       "    }\n",
       "\n",
       "    .dataframe thead th {\n",
       "        text-align: right;\n",
       "    }\n",
       "</style>\n",
       "<table border=\"1\" class=\"dataframe\">\n",
       "  <thead>\n",
       "    <tr style=\"text-align: right;\">\n",
       "      <th></th>\n",
       "      <th>doll_id</th>\n",
       "      <th>drug_consume</th>\n",
       "      <th>drug_freq</th>\n",
       "      <th>max_date</th>\n",
       "      <th>min_date</th>\n",
       "      <th>days</th>\n",
       "    </tr>\n",
       "  </thead>\n",
       "  <tbody>\n",
       "    <tr>\n",
       "      <th>0</th>\n",
       "      <td>125027</td>\n",
       "      <td>30</td>\n",
       "      <td>5</td>\n",
       "      <td>2019-06-25 00:10:16</td>\n",
       "      <td>2019-04-06 00:00:17</td>\n",
       "      <td>80</td>\n",
       "    </tr>\n",
       "    <tr>\n",
       "      <th>1</th>\n",
       "      <td>125030</td>\n",
       "      <td>97</td>\n",
       "      <td>1</td>\n",
       "      <td>2019-09-12 00:08:28</td>\n",
       "      <td>2019-04-08 00:00:06</td>\n",
       "      <td>157</td>\n",
       "    </tr>\n",
       "    <tr>\n",
       "      <th>2</th>\n",
       "      <td>125031</td>\n",
       "      <td>22</td>\n",
       "      <td>3</td>\n",
       "      <td>2019-07-17 00:17:17</td>\n",
       "      <td>2019-06-17 07:50:08</td>\n",
       "      <td>30</td>\n",
       "    </tr>\n",
       "    <tr>\n",
       "      <th>3</th>\n",
       "      <td>125032</td>\n",
       "      <td>95</td>\n",
       "      <td>1</td>\n",
       "      <td>2020-01-06 00:27:08</td>\n",
       "      <td>2019-05-03 00:02:41</td>\n",
       "      <td>248</td>\n",
       "    </tr>\n",
       "    <tr>\n",
       "      <th>4</th>\n",
       "      <td>125036</td>\n",
       "      <td>11</td>\n",
       "      <td>1</td>\n",
       "      <td>2019-10-02 00:02:42</td>\n",
       "      <td>2019-09-22 08:53:21</td>\n",
       "      <td>10</td>\n",
       "    </tr>\n",
       "  </tbody>\n",
       "</table>\n",
       "</div>"
      ],
      "text/plain": [
       "   doll_id  drug_consume  drug_freq            max_date            min_date  \\\n",
       "0   125027            30          5 2019-06-25 00:10:16 2019-04-06 00:00:17   \n",
       "1   125030            97          1 2019-09-12 00:08:28 2019-04-08 00:00:06   \n",
       "2   125031            22          3 2019-07-17 00:17:17 2019-06-17 07:50:08   \n",
       "3   125032            95          1 2020-01-06 00:27:08 2019-05-03 00:02:41   \n",
       "4   125036            11          1 2019-10-02 00:02:42 2019-09-22 08:53:21   \n",
       "\n",
       "   days  \n",
       "0    80  \n",
       "1   157  \n",
       "2    30  \n",
       "3   248  \n",
       "4    10  "
      ]
     },
     "execution_count": 564,
     "metadata": {},
     "output_type": "execute_result"
    }
   ],
   "source": [
    "df_log_drug.head()"
   ]
  },
  {
   "cell_type": "code",
   "execution_count": 565,
   "id": "6c85bbb8",
   "metadata": {},
   "outputs": [],
   "source": [
    "df_log_drug.rename(columns = { 'doll_id':'id'\n",
    "                              ,'drug_consume':'c_consume'\n",
    "                              ,'drug_freq':'c_freq'\n",
    "                              ,'days':'c_days'}\n",
    "                  , inplace=True)"
   ]
  },
  {
   "cell_type": "code",
   "execution_count": 566,
   "id": "6f0ae1f3",
   "metadata": {},
   "outputs": [],
   "source": [
    "# 기간에 1 더해주기\n",
    "df_log_drug['c_days'] = df_log_drug['c_days'] + 1"
   ]
  },
  {
   "cell_type": "code",
   "execution_count": 567,
   "id": "702628b9",
   "metadata": {},
   "outputs": [],
   "source": [
    "# 사용할 컬럼만 선택\n",
    "df_log_drug = df_log_drug[['id', 'c_consume', 'c_freq', 'c_days']]"
   ]
  },
  {
   "cell_type": "code",
   "execution_count": 568,
   "id": "a5ada287",
   "metadata": {},
   "outputs": [],
   "source": [
    "# 기간내 평균값 구하기\n",
    "df_log_drug.loc[:,'c_m_consume'] = df_log_drug.loc[:,'c_consume'] / df_log_drug.loc[:,'c_days']"
   ]
  },
  {
   "cell_type": "code",
   "execution_count": 569,
   "id": "de8c5752",
   "metadata": {},
   "outputs": [
    {
     "data": {
      "text/html": [
       "<div>\n",
       "<style scoped>\n",
       "    .dataframe tbody tr th:only-of-type {\n",
       "        vertical-align: middle;\n",
       "    }\n",
       "\n",
       "    .dataframe tbody tr th {\n",
       "        vertical-align: top;\n",
       "    }\n",
       "\n",
       "    .dataframe thead th {\n",
       "        text-align: right;\n",
       "    }\n",
       "</style>\n",
       "<table border=\"1\" class=\"dataframe\">\n",
       "  <thead>\n",
       "    <tr style=\"text-align: right;\">\n",
       "      <th></th>\n",
       "      <th>id</th>\n",
       "      <th>c_consume</th>\n",
       "      <th>c_freq</th>\n",
       "      <th>c_days</th>\n",
       "      <th>c_m_consume</th>\n",
       "    </tr>\n",
       "  </thead>\n",
       "  <tbody>\n",
       "    <tr>\n",
       "      <th>0</th>\n",
       "      <td>125027</td>\n",
       "      <td>30</td>\n",
       "      <td>5</td>\n",
       "      <td>81</td>\n",
       "      <td>0.370370</td>\n",
       "    </tr>\n",
       "    <tr>\n",
       "      <th>1</th>\n",
       "      <td>125030</td>\n",
       "      <td>97</td>\n",
       "      <td>1</td>\n",
       "      <td>158</td>\n",
       "      <td>0.613924</td>\n",
       "    </tr>\n",
       "    <tr>\n",
       "      <th>2</th>\n",
       "      <td>125031</td>\n",
       "      <td>22</td>\n",
       "      <td>3</td>\n",
       "      <td>31</td>\n",
       "      <td>0.709677</td>\n",
       "    </tr>\n",
       "    <tr>\n",
       "      <th>3</th>\n",
       "      <td>125032</td>\n",
       "      <td>95</td>\n",
       "      <td>1</td>\n",
       "      <td>249</td>\n",
       "      <td>0.381526</td>\n",
       "    </tr>\n",
       "    <tr>\n",
       "      <th>4</th>\n",
       "      <td>125036</td>\n",
       "      <td>11</td>\n",
       "      <td>1</td>\n",
       "      <td>11</td>\n",
       "      <td>1.000000</td>\n",
       "    </tr>\n",
       "  </tbody>\n",
       "</table>\n",
       "</div>"
      ],
      "text/plain": [
       "       id  c_consume  c_freq  c_days  c_m_consume\n",
       "0  125027         30       5      81     0.370370\n",
       "1  125030         97       1     158     0.613924\n",
       "2  125031         22       3      31     0.709677\n",
       "3  125032         95       1     249     0.381526\n",
       "4  125036         11       1      11     1.000000"
      ]
     },
     "execution_count": 569,
     "metadata": {},
     "output_type": "execute_result"
    }
   ],
   "source": [
    "df_log_drug.head()"
   ]
  },
  {
   "cell_type": "markdown",
   "id": "06f44262",
   "metadata": {},
   "source": [
    "## (제외) log_emergency_push"
   ]
  },
  {
   "cell_type": "markdown",
   "id": "a5cc8a33",
   "metadata": {},
   "source": [
    "제외"
   ]
  },
  {
   "cell_type": "code",
   "execution_count": null,
   "id": "532b17ac",
   "metadata": {},
   "outputs": [],
   "source": []
  },
  {
   "cell_type": "code",
   "execution_count": null,
   "id": "bc75d6a7",
   "metadata": {},
   "outputs": [],
   "source": []
  },
  {
   "cell_type": "markdown",
   "id": "b312faee",
   "metadata": {},
   "source": [
    "## scc_ear_function_log"
   ]
  },
  {
   "cell_type": "code",
   "execution_count": 259,
   "id": "decd9ffc",
   "metadata": {},
   "outputs": [],
   "source": [
    "sql_ear = '''\n",
    "select * from rome_test.scc_ear_function_log\n",
    "\twhere doll_id in (\n",
    "\t\tselect id from rome_test.scc_doll \n",
    "\t\twhere host_user_id not in (7259,7260,7261,7262,7264,7265,7266,7267,7268,7269,7270,7271,7272,7275,7276,7277,7278,7279,7280,7282,7283,7284,7285,7286,7287,7288,7289,7290,7291,7292,7293,7294,7295,7296,7297,7298,7299,7300,7301,7302,7303,7304,7305,7306,7307,7308,7309,7310,7311,7312,7313,7314,7315,7316,7317,7318,7319,7320,7321,7322,7323,7324,7325,7326,7327,7328,7329,7330,7331,7332,7333,7334,7335,7336,7338,7341,7342,7343,7345,7346,7347,7348,7350,7388,7443,7511,7525,7530,7591,7979,8013)\n",
    "\t\t\tand host_user_id not in (select id from rome_test.scc_user where agency_code = '')\n",
    "\t\t\tand regsted_date between '2019-04-01 00:00:00' and '2021-05-31 23:59:59'\n",
    "\t\t)\n",
    "'''"
   ]
  },
  {
   "cell_type": "code",
   "execution_count": 264,
   "id": "434fd6fb",
   "metadata": {},
   "outputs": [],
   "source": [
    "scc_ear_function_log = pd.read_sql(sql_ear, con)"
   ]
  },
  {
   "cell_type": "code",
   "execution_count": 265,
   "id": "02eda460",
   "metadata": {},
   "outputs": [],
   "source": [
    "df_ear = scc_ear_function_log.copy()"
   ]
  },
  {
   "cell_type": "code",
   "execution_count": 266,
   "id": "1081c979",
   "metadata": {},
   "outputs": [
    {
     "data": {
      "text/plain": [
       "(294677, 11)"
      ]
     },
     "execution_count": 266,
     "metadata": {},
     "output_type": "execute_result"
    }
   ],
   "source": [
    "# scc_ear_function_log 전체 갯수\n",
    "df_ear.shape"
   ]
  },
  {
   "cell_type": "code",
   "execution_count": 267,
   "id": "372b849b",
   "metadata": {},
   "outputs": [
    {
     "data": {
      "text/html": [
       "<div>\n",
       "<style scoped>\n",
       "    .dataframe tbody tr th:only-of-type {\n",
       "        vertical-align: middle;\n",
       "    }\n",
       "\n",
       "    .dataframe tbody tr th {\n",
       "        vertical-align: top;\n",
       "    }\n",
       "\n",
       "    .dataframe thead th {\n",
       "        text-align: right;\n",
       "    }\n",
       "</style>\n",
       "<table border=\"1\" class=\"dataframe\">\n",
       "  <thead>\n",
       "    <tr style=\"text-align: right;\">\n",
       "      <th></th>\n",
       "      <th>doll_id</th>\n",
       "      <th>story</th>\n",
       "      <th>religion</th>\n",
       "      <th>music</th>\n",
       "      <th>english</th>\n",
       "      <th>remembrance</th>\n",
       "      <th>quiz</th>\n",
       "      <th>gymnastics</th>\n",
       "      <th>classic_music</th>\n",
       "      <th>religion_music</th>\n",
       "      <th>reg_date</th>\n",
       "    </tr>\n",
       "  </thead>\n",
       "  <tbody>\n",
       "    <tr>\n",
       "      <th>171251</th>\n",
       "      <td>133094</td>\n",
       "      <td>0</td>\n",
       "      <td>1</td>\n",
       "      <td>0</td>\n",
       "      <td>0</td>\n",
       "      <td>0</td>\n",
       "      <td>0</td>\n",
       "      <td>0</td>\n",
       "      <td>0</td>\n",
       "      <td>0</td>\n",
       "      <td>2021-02-06 11:28:00</td>\n",
       "    </tr>\n",
       "    <tr>\n",
       "      <th>212357</th>\n",
       "      <td>133067</td>\n",
       "      <td>0</td>\n",
       "      <td>0</td>\n",
       "      <td>1</td>\n",
       "      <td>0</td>\n",
       "      <td>0</td>\n",
       "      <td>0</td>\n",
       "      <td>0</td>\n",
       "      <td>0</td>\n",
       "      <td>0</td>\n",
       "      <td>2021-03-14 08:08:49</td>\n",
       "    </tr>\n",
       "    <tr>\n",
       "      <th>54730</th>\n",
       "      <td>129606</td>\n",
       "      <td>0</td>\n",
       "      <td>0</td>\n",
       "      <td>1</td>\n",
       "      <td>0</td>\n",
       "      <td>0</td>\n",
       "      <td>0</td>\n",
       "      <td>0</td>\n",
       "      <td>0</td>\n",
       "      <td>0</td>\n",
       "      <td>2020-10-13 18:56:29</td>\n",
       "    </tr>\n",
       "    <tr>\n",
       "      <th>249122</th>\n",
       "      <td>133706</td>\n",
       "      <td>0</td>\n",
       "      <td>1</td>\n",
       "      <td>0</td>\n",
       "      <td>0</td>\n",
       "      <td>0</td>\n",
       "      <td>0</td>\n",
       "      <td>0</td>\n",
       "      <td>0</td>\n",
       "      <td>0</td>\n",
       "      <td>2021-04-10 20:22:06</td>\n",
       "    </tr>\n",
       "    <tr>\n",
       "      <th>110285</th>\n",
       "      <td>131767</td>\n",
       "      <td>1</td>\n",
       "      <td>0</td>\n",
       "      <td>0</td>\n",
       "      <td>0</td>\n",
       "      <td>0</td>\n",
       "      <td>0</td>\n",
       "      <td>0</td>\n",
       "      <td>0</td>\n",
       "      <td>0</td>\n",
       "      <td>2020-12-13 07:47:42</td>\n",
       "    </tr>\n",
       "  </tbody>\n",
       "</table>\n",
       "</div>"
      ],
      "text/plain": [
       "       doll_id  story  religion  music  english  remembrance  quiz  \\\n",
       "171251  133094      0         1      0        0            0     0   \n",
       "212357  133067      0         0      1        0            0     0   \n",
       "54730   129606      0         0      1        0            0     0   \n",
       "249122  133706      0         1      0        0            0     0   \n",
       "110285  131767      1         0      0        0            0     0   \n",
       "\n",
       "        gymnastics  classic_music  religion_music            reg_date  \n",
       "171251           0              0               0 2021-02-06 11:28:00  \n",
       "212357           0              0               0 2021-03-14 08:08:49  \n",
       "54730            0              0               0 2020-10-13 18:56:29  \n",
       "249122           0              0               0 2021-04-10 20:22:06  \n",
       "110285           0              0               0 2020-12-13 07:47:42  "
      ]
     },
     "execution_count": 267,
     "metadata": {},
     "output_type": "execute_result"
    }
   ],
   "source": [
    "df_ear.sample(5)"
   ]
  },
  {
   "cell_type": "markdown",
   "id": "1a4806f1",
   "metadata": {},
   "source": [
    "* 음수값 없음"
   ]
  },
  {
   "cell_type": "code",
   "execution_count": 269,
   "id": "cbc63104",
   "metadata": {},
   "outputs": [
    {
     "name": "stdout",
     "output_type": "stream",
     "text": [
      "story 0\n",
      "religion 0\n",
      "music 0\n",
      "english 0\n",
      "remembrance 0\n",
      "quiz 0\n",
      "gymnastics 0\n",
      "classic_music 0\n"
     ]
    }
   ],
   "source": [
    "# 변수별 음수\n",
    "for i in df_ear.columns[1:9]:\n",
    "    neg_cnt = df_ear[df_ear[i] < 0].shape[0]\n",
    "    print(i, neg_cnt)"
   ]
  },
  {
   "cell_type": "code",
   "execution_count": 273,
   "id": "23ea0583",
   "metadata": {},
   "outputs": [
    {
     "name": "stdout",
     "output_type": "stream",
     "text": [
      "story 37\n",
      "religion 23\n",
      "music 75\n",
      "english 45\n",
      "remembrance 13\n",
      "quiz 38\n",
      "gymnastics 15\n",
      "classic_music 8\n"
     ]
    }
   ],
   "source": [
    "# 변수별 max값\n",
    "for i in df_ear.columns[1:9]:\n",
    "    print(i, np.max(df_ear[i]))"
   ]
  },
  {
   "cell_type": "markdown",
   "id": "df87a9c7",
   "metadata": {},
   "source": [
    "* groupby"
   ]
  },
  {
   "cell_type": "code",
   "execution_count": 338,
   "id": "7b42c48e",
   "metadata": {},
   "outputs": [],
   "source": [
    "df_ear_gr = df_ear.groupby(['doll_id'], as_index=False).agg({'story':'sum'\n",
    "                                                ,'religion':'sum'\n",
    "                                                ,'music':'sum'\n",
    "                                                ,'english':'sum'\n",
    "                                                ,'remembrance':'sum'\n",
    "                                                ,'quiz':'sum'\n",
    "                                                ,'gymnastics':'sum'\n",
    "                                                ,'classic_music':'sum'\n",
    "                                                ,'religion_music':'sum'\n",
    "                                                ,'reg_date':days\n",
    "                                                })"
   ]
  },
  {
   "cell_type": "code",
   "execution_count": 339,
   "id": "83e0dd31",
   "metadata": {},
   "outputs": [
    {
     "data": {
      "text/plain": [
       "(2444, 11)"
      ]
     },
     "execution_count": 339,
     "metadata": {},
     "output_type": "execute_result"
    }
   ],
   "source": [
    "df_ear_gr.shape"
   ]
  },
  {
   "cell_type": "code",
   "execution_count": 498,
   "id": "03025c62",
   "metadata": {},
   "outputs": [],
   "source": [
    "# id 데이터 타입 변경\n",
    "df_ear_gr['doll_id'] = df_ear_gr['doll_id'].astype(np.int64)"
   ]
  },
  {
   "cell_type": "code",
   "execution_count": 344,
   "id": "796421bd",
   "metadata": {},
   "outputs": [],
   "source": [
    "# 기간에 1더해주기\n",
    "df_ear_gr['reg_date'] = df_ear_gr['reg_date'] + 1"
   ]
  },
  {
   "cell_type": "code",
   "execution_count": 481,
   "id": "85fe468f",
   "metadata": {},
   "outputs": [],
   "source": [
    "df_ear_gr.rename(columns = {'doll_id':'id'\n",
    "                            ,'story':'e_story'\n",
    "                            ,'religion':'e_religion'\n",
    "                            ,'music':'e_music'\n",
    "                            ,'english':'e_english'\n",
    "                            ,'remembrance':'e_remembrance'\n",
    "                            ,'quiz':'e_quiz'\n",
    "                            ,'gymnastics':'e_gymnastics'\n",
    "                            ,'classic_music':'e_classic_music'\n",
    "                            ,'religion_music':'e_religion_music'\n",
    "                            ,'reg_date':'e_days'\n",
    "                            }\n",
    "                ,inplace=True)"
   ]
  },
  {
   "cell_type": "code",
   "execution_count": 570,
   "id": "63554c01",
   "metadata": {},
   "outputs": [],
   "source": [
    "# 기간내 평균값 구하기\n",
    "for i in df_ear_gr.columns[1:10]:\n",
    "    col_name = i.split('_')[1]\n",
    "    df_ear_gr.loc[:,'e_m_{}'.format(col_name)] = df_ear_gr.loc[:, i] / df_ear_gr.loc[:, 'e_days']"
   ]
  },
  {
   "cell_type": "code",
   "execution_count": 571,
   "id": "a7064ba1",
   "metadata": {},
   "outputs": [
    {
     "data": {
      "text/html": [
       "<div>\n",
       "<style scoped>\n",
       "    .dataframe tbody tr th:only-of-type {\n",
       "        vertical-align: middle;\n",
       "    }\n",
       "\n",
       "    .dataframe tbody tr th {\n",
       "        vertical-align: top;\n",
       "    }\n",
       "\n",
       "    .dataframe thead th {\n",
       "        text-align: right;\n",
       "    }\n",
       "</style>\n",
       "<table border=\"1\" class=\"dataframe\">\n",
       "  <thead>\n",
       "    <tr style=\"text-align: right;\">\n",
       "      <th></th>\n",
       "      <th>id</th>\n",
       "      <th>e_story</th>\n",
       "      <th>e_religion</th>\n",
       "      <th>e_music</th>\n",
       "      <th>e_english</th>\n",
       "      <th>e_remembrance</th>\n",
       "      <th>e_quiz</th>\n",
       "      <th>e_gymnastics</th>\n",
       "      <th>e_classic_music</th>\n",
       "      <th>e_religion_music</th>\n",
       "      <th>e_days</th>\n",
       "      <th>e_m_story</th>\n",
       "      <th>e_m_religion</th>\n",
       "      <th>e_m_music</th>\n",
       "      <th>e_m_english</th>\n",
       "      <th>e_m_remembrance</th>\n",
       "      <th>e_m_quiz</th>\n",
       "      <th>e_m_gymnastics</th>\n",
       "      <th>e_m_classic</th>\n",
       "    </tr>\n",
       "  </thead>\n",
       "  <tbody>\n",
       "    <tr>\n",
       "      <th>0</th>\n",
       "      <td>126458</td>\n",
       "      <td>43</td>\n",
       "      <td>0</td>\n",
       "      <td>439</td>\n",
       "      <td>0</td>\n",
       "      <td>36</td>\n",
       "      <td>69</td>\n",
       "      <td>45</td>\n",
       "      <td>0</td>\n",
       "      <td>0</td>\n",
       "      <td>288</td>\n",
       "      <td>0.149306</td>\n",
       "      <td>0.0</td>\n",
       "      <td>1.524306</td>\n",
       "      <td>0.0</td>\n",
       "      <td>0.125000</td>\n",
       "      <td>0.239583</td>\n",
       "      <td>0.156250</td>\n",
       "      <td>0.0</td>\n",
       "    </tr>\n",
       "    <tr>\n",
       "      <th>1</th>\n",
       "      <td>126460</td>\n",
       "      <td>2</td>\n",
       "      <td>0</td>\n",
       "      <td>2</td>\n",
       "      <td>0</td>\n",
       "      <td>0</td>\n",
       "      <td>3</td>\n",
       "      <td>10</td>\n",
       "      <td>0</td>\n",
       "      <td>0</td>\n",
       "      <td>266</td>\n",
       "      <td>0.007519</td>\n",
       "      <td>0.0</td>\n",
       "      <td>0.007519</td>\n",
       "      <td>0.0</td>\n",
       "      <td>0.000000</td>\n",
       "      <td>0.011278</td>\n",
       "      <td>0.037594</td>\n",
       "      <td>0.0</td>\n",
       "    </tr>\n",
       "    <tr>\n",
       "      <th>2</th>\n",
       "      <td>126463</td>\n",
       "      <td>13</td>\n",
       "      <td>8</td>\n",
       "      <td>301</td>\n",
       "      <td>0</td>\n",
       "      <td>9</td>\n",
       "      <td>16</td>\n",
       "      <td>18</td>\n",
       "      <td>0</td>\n",
       "      <td>0</td>\n",
       "      <td>263</td>\n",
       "      <td>0.049430</td>\n",
       "      <td>0.0</td>\n",
       "      <td>1.144487</td>\n",
       "      <td>0.0</td>\n",
       "      <td>0.034221</td>\n",
       "      <td>0.060837</td>\n",
       "      <td>0.068441</td>\n",
       "      <td>0.0</td>\n",
       "    </tr>\n",
       "  </tbody>\n",
       "</table>\n",
       "</div>"
      ],
      "text/plain": [
       "       id  e_story  e_religion  e_music  e_english  e_remembrance  e_quiz  \\\n",
       "0  126458       43           0      439          0             36      69   \n",
       "1  126460        2           0        2          0              0       3   \n",
       "2  126463       13           8      301          0              9      16   \n",
       "\n",
       "   e_gymnastics  e_classic_music  e_religion_music  e_days  e_m_story  \\\n",
       "0            45                0                 0     288   0.149306   \n",
       "1            10                0                 0     266   0.007519   \n",
       "2            18                0                 0     263   0.049430   \n",
       "\n",
       "   e_m_religion  e_m_music  e_m_english  e_m_remembrance  e_m_quiz  \\\n",
       "0           0.0   1.524306          0.0         0.125000  0.239583   \n",
       "1           0.0   0.007519          0.0         0.000000  0.011278   \n",
       "2           0.0   1.144487          0.0         0.034221  0.060837   \n",
       "\n",
       "   e_m_gymnastics  e_m_classic  \n",
       "0        0.156250          0.0  \n",
       "1        0.037594          0.0  \n",
       "2        0.068441          0.0  "
      ]
     },
     "execution_count": 571,
     "metadata": {},
     "output_type": "execute_result"
    }
   ],
   "source": [
    "df_ear_gr.head(3)"
   ]
  },
  {
   "cell_type": "code",
   "execution_count": null,
   "id": "2466aae0",
   "metadata": {},
   "outputs": [],
   "source": []
  },
  {
   "cell_type": "markdown",
   "id": "9cafa76e",
   "metadata": {},
   "source": [
    "## scc_emergency_call"
   ]
  },
  {
   "cell_type": "code",
   "execution_count": 355,
   "id": "13dbbb9b",
   "metadata": {},
   "outputs": [],
   "source": [
    "sql_emergency = '''\n",
    "select doll_id, count(1) as call_confirm\n",
    "    , max(reg_date) as max_date, min(reg_date) as min_date\n",
    "    , datediff( max(reg_date),min(reg_date)) as days\n",
    "from rome_test.scc_emergency_call\n",
    "where doll_id in (\n",
    "\t\tselect id from rome_test.scc_doll \n",
    "\t\twhere host_user_id not in (7259,7260,7261,7262,7264,7265,7266,7267,7268,7269,7270,7271,7272,7275,7276,7277,7278,7279,7280,7282,7283,7284,7285,7286,7287,7288,7289,7290,7291,7292,7293,7294,7295,7296,7297,7298,7299,7300,7301,7302,7303,7304,7305,7306,7307,7308,7309,7310,7311,7312,7313,7314,7315,7316,7317,7318,7319,7320,7321,7322,7323,7324,7325,7326,7327,7328,7329,7330,7331,7332,7333,7334,7335,7336,7338,7341,7342,7343,7345,7346,7347,7348,7350,7388,7443,7511,7525,7530,7591,7979,8013)\n",
    "\t\t\tand host_user_id not in (select id from rome_test.scc_user where agency_code = '')\n",
    "\t\t\tand regsted_date between '2019-04-01 00:00:00' and '2021-05-31 23:59:59'\n",
    "\t\t)\n",
    "group by doll_id\n",
    "'''"
   ]
  },
  {
   "cell_type": "code",
   "execution_count": 356,
   "id": "9b17e5cb",
   "metadata": {},
   "outputs": [],
   "source": [
    "scc_emergency_call = pd.read_sql(sql_emergency, con)"
   ]
  },
  {
   "cell_type": "code",
   "execution_count": 366,
   "id": "7b4f9675",
   "metadata": {},
   "outputs": [],
   "source": [
    "df_emergency = scc_emergency_call.copy()"
   ]
  },
  {
   "cell_type": "code",
   "execution_count": 367,
   "id": "fc071d68",
   "metadata": {},
   "outputs": [
    {
     "data": {
      "text/plain": [
       "(1605, 5)"
      ]
     },
     "execution_count": 367,
     "metadata": {},
     "output_type": "execute_result"
    }
   ],
   "source": [
    "df_emergency.shape"
   ]
  },
  {
   "cell_type": "code",
   "execution_count": 368,
   "id": "588a792c",
   "metadata": {},
   "outputs": [
    {
     "data": {
      "text/html": [
       "<div>\n",
       "<style scoped>\n",
       "    .dataframe tbody tr th:only-of-type {\n",
       "        vertical-align: middle;\n",
       "    }\n",
       "\n",
       "    .dataframe tbody tr th {\n",
       "        vertical-align: top;\n",
       "    }\n",
       "\n",
       "    .dataframe thead th {\n",
       "        text-align: right;\n",
       "    }\n",
       "</style>\n",
       "<table border=\"1\" class=\"dataframe\">\n",
       "  <thead>\n",
       "    <tr style=\"text-align: right;\">\n",
       "      <th></th>\n",
       "      <th>doll_id</th>\n",
       "      <th>call_confirm</th>\n",
       "      <th>max_date</th>\n",
       "      <th>min_date</th>\n",
       "      <th>days</th>\n",
       "    </tr>\n",
       "  </thead>\n",
       "  <tbody>\n",
       "    <tr>\n",
       "      <th>0</th>\n",
       "      <td>128182</td>\n",
       "      <td>7</td>\n",
       "      <td>2020-09-23 14:54:53</td>\n",
       "      <td>2020-05-23 21:44:41</td>\n",
       "      <td>123</td>\n",
       "    </tr>\n",
       "    <tr>\n",
       "      <th>1</th>\n",
       "      <td>128123</td>\n",
       "      <td>26</td>\n",
       "      <td>2020-06-20 18:51:21</td>\n",
       "      <td>2020-05-24 06:06:54</td>\n",
       "      <td>27</td>\n",
       "    </tr>\n",
       "    <tr>\n",
       "      <th>2</th>\n",
       "      <td>128162</td>\n",
       "      <td>121</td>\n",
       "      <td>2021-02-12 01:25:44</td>\n",
       "      <td>2020-05-25 03:52:23</td>\n",
       "      <td>263</td>\n",
       "    </tr>\n",
       "  </tbody>\n",
       "</table>\n",
       "</div>"
      ],
      "text/plain": [
       "   doll_id  call_confirm            max_date            min_date  days\n",
       "0   128182             7 2020-09-23 14:54:53 2020-05-23 21:44:41   123\n",
       "1   128123            26 2020-06-20 18:51:21 2020-05-24 06:06:54    27\n",
       "2   128162           121 2021-02-12 01:25:44 2020-05-25 03:52:23   263"
      ]
     },
     "execution_count": 368,
     "metadata": {},
     "output_type": "execute_result"
    }
   ],
   "source": [
    "df_emergency.head(3)"
   ]
  },
  {
   "cell_type": "code",
   "execution_count": 369,
   "id": "ebdb9d34",
   "metadata": {},
   "outputs": [],
   "source": [
    "# 기간에 1 더하기\n",
    "df_emergency['days'] = df_emergency['days'] + 1"
   ]
  },
  {
   "cell_type": "code",
   "execution_count": 483,
   "id": "5024ac25",
   "metadata": {},
   "outputs": [],
   "source": [
    "# 컬럼 이름 바꾸기\n",
    "df_emergency.rename(columns={'doll_id':'id'\n",
    "                            ,'days':'call_days'}, inplace=True)"
   ]
  },
  {
   "cell_type": "code",
   "execution_count": 371,
   "id": "8a53f622",
   "metadata": {},
   "outputs": [],
   "source": [
    "df_emergency = df_emergency[['doll_id', 'call_confirm','call_days']]"
   ]
  },
  {
   "cell_type": "code",
   "execution_count": 572,
   "id": "ec48fcbd",
   "metadata": {},
   "outputs": [],
   "source": [
    "# 기간내 평균 구하기\n",
    "df_emergency.loc[:, 'call_m_confirm'] = df_emergency.loc[:, 'call_confirm'] / df_emergency.loc[:, 'call_days']"
   ]
  },
  {
   "cell_type": "code",
   "execution_count": 573,
   "id": "bc5b0657",
   "metadata": {},
   "outputs": [
    {
     "data": {
      "text/html": [
       "<div>\n",
       "<style scoped>\n",
       "    .dataframe tbody tr th:only-of-type {\n",
       "        vertical-align: middle;\n",
       "    }\n",
       "\n",
       "    .dataframe tbody tr th {\n",
       "        vertical-align: top;\n",
       "    }\n",
       "\n",
       "    .dataframe thead th {\n",
       "        text-align: right;\n",
       "    }\n",
       "</style>\n",
       "<table border=\"1\" class=\"dataframe\">\n",
       "  <thead>\n",
       "    <tr style=\"text-align: right;\">\n",
       "      <th></th>\n",
       "      <th>id</th>\n",
       "      <th>call_confirm</th>\n",
       "      <th>call_days</th>\n",
       "      <th>call_m_confirm</th>\n",
       "    </tr>\n",
       "  </thead>\n",
       "  <tbody>\n",
       "    <tr>\n",
       "      <th>0</th>\n",
       "      <td>128182</td>\n",
       "      <td>7</td>\n",
       "      <td>124</td>\n",
       "      <td>0.056452</td>\n",
       "    </tr>\n",
       "    <tr>\n",
       "      <th>1</th>\n",
       "      <td>128123</td>\n",
       "      <td>26</td>\n",
       "      <td>28</td>\n",
       "      <td>0.928571</td>\n",
       "    </tr>\n",
       "    <tr>\n",
       "      <th>2</th>\n",
       "      <td>128162</td>\n",
       "      <td>121</td>\n",
       "      <td>264</td>\n",
       "      <td>0.458333</td>\n",
       "    </tr>\n",
       "  </tbody>\n",
       "</table>\n",
       "</div>"
      ],
      "text/plain": [
       "       id  call_confirm  call_days  call_m_confirm\n",
       "0  128182             7        124        0.056452\n",
       "1  128123            26         28        0.928571\n",
       "2  128162           121        264        0.458333"
      ]
     },
     "execution_count": 573,
     "metadata": {},
     "output_type": "execute_result"
    }
   ],
   "source": [
    "df_emergency.head(3)"
   ]
  },
  {
   "cell_type": "markdown",
   "id": "e1f1b54c",
   "metadata": {},
   "source": [
    "# Merge"
   ]
  },
  {
   "cell_type": "markdown",
   "id": "27b2c948",
   "metadata": {},
   "source": [
    "* scc_user + scc_agency"
   ]
  },
  {
   "cell_type": "code",
   "execution_count": 574,
   "id": "1eee31cf",
   "metadata": {},
   "outputs": [],
   "source": [
    "df_user = df_scc_user.merge(df_scc_agency, how = 'left',on='agency_code')"
   ]
  },
  {
   "cell_type": "code",
   "execution_count": 575,
   "id": "8cd7605d",
   "metadata": {},
   "outputs": [
    {
     "data": {
      "text/html": [
       "<div>\n",
       "<style scoped>\n",
       "    .dataframe tbody tr th:only-of-type {\n",
       "        vertical-align: middle;\n",
       "    }\n",
       "\n",
       "    .dataframe tbody tr th {\n",
       "        vertical-align: top;\n",
       "    }\n",
       "\n",
       "    .dataframe thead th {\n",
       "        text-align: right;\n",
       "    }\n",
       "</style>\n",
       "<table border=\"1\" class=\"dataframe\">\n",
       "  <thead>\n",
       "    <tr style=\"text-align: right;\">\n",
       "      <th></th>\n",
       "      <th>host_user_id</th>\n",
       "      <th>is_resign</th>\n",
       "      <th>agency_code</th>\n",
       "      <th>agency_name</th>\n",
       "    </tr>\n",
       "  </thead>\n",
       "  <tbody>\n",
       "    <tr>\n",
       "      <th>0</th>\n",
       "      <td>1</td>\n",
       "      <td>1</td>\n",
       "      <td>0</td>\n",
       "      <td>NaN</td>\n",
       "    </tr>\n",
       "    <tr>\n",
       "      <th>1</th>\n",
       "      <td>2</td>\n",
       "      <td>0</td>\n",
       "      <td>0</td>\n",
       "      <td>NaN</td>\n",
       "    </tr>\n",
       "    <tr>\n",
       "      <th>2</th>\n",
       "      <td>3</td>\n",
       "      <td>1</td>\n",
       "      <td>0</td>\n",
       "      <td>NaN</td>\n",
       "    </tr>\n",
       "  </tbody>\n",
       "</table>\n",
       "</div>"
      ],
      "text/plain": [
       "   host_user_id  is_resign agency_code agency_name\n",
       "0             1          1           0         NaN\n",
       "1             2          0           0         NaN\n",
       "2             3          1           0         NaN"
      ]
     },
     "execution_count": 575,
     "metadata": {},
     "output_type": "execute_result"
    }
   ],
   "source": [
    "df_user.head(3)"
   ]
  },
  {
   "cell_type": "markdown",
   "id": "ca2200a7",
   "metadata": {},
   "source": [
    "* user + scc_doll"
   ]
  },
  {
   "cell_type": "code",
   "execution_count": 576,
   "id": "cf70c2a8",
   "metadata": {},
   "outputs": [],
   "source": [
    "df_scc_doll_user = df_scc_doll.merge(df_user, how='left', on='host_user_id')"
   ]
  },
  {
   "cell_type": "markdown",
   "id": "94876c53",
   "metadata": {},
   "source": [
    "* 나머지 (full)"
   ]
  },
  {
   "cell_type": "code",
   "execution_count": 578,
   "id": "9b06ac5d",
   "metadata": {},
   "outputs": [],
   "source": [
    "# 키값이 동일한 df\n",
    "dfs = [df_scc_doll_user, df_scc_doll_option, df_log_doll_gr, df_log_drug, df_ear_gr, df_emergency, df_survey]"
   ]
  },
  {
   "cell_type": "code",
   "execution_count": 579,
   "id": "43be30d5",
   "metadata": {},
   "outputs": [],
   "source": [
    "# 한번에 merge\n",
    "df_merge = reduce(lambda left, right: pd.merge(left, right, on='id', how='left'), dfs)"
   ]
  },
  {
   "cell_type": "code",
   "execution_count": 580,
   "id": "bce695dc",
   "metadata": {},
   "outputs": [
    {
     "data": {
      "text/plain": [
       "Index(['id', 'host_user_id', 'sex_x', 'birthday', 'religion', 'wakeup',\n",
       "       'breakfast', 'lunch', 'dinner', 'sleep', 'drug_option',\n",
       "       'ventilation_walk', 'disease', 'is_resign', 'agency_code',\n",
       "       'agency_name', 'connection_type', 'no_alarm', 'custom_timer_cnt',\n",
       "       'religion_alarm', 'right_ear_function', 'left_ear_function', 'l_stroke',\n",
       "       'l_hand_hold', 'l_knock', 'l_human_detection', 'l_gymnastics',\n",
       "       'l_brain_timer', 'l_days', 'l_m_stroke', 'l_m_hand', 'l_m_knock',\n",
       "       'l_m_human', 'l_m_gymnastics', 'l_m_brain', 'c_consume', 'c_freq',\n",
       "       'c_days', 'c_m_consume', 'e_story', 'e_religion', 'e_music',\n",
       "       'e_english', 'e_remembrance', 'e_quiz', 'e_gymnastics',\n",
       "       'e_classic_music', 'e_religion_music', 'e_days', 'e_m_story',\n",
       "       'e_m_religion', 'e_m_music', 'e_m_english', 'e_m_remembrance',\n",
       "       'e_m_quiz', 'e_m_gymnastics', 'e_m_classic', 'call_confirm',\n",
       "       'call_days', 'call_m_confirm', 'GP', 'sub_gp', 'age', 'sex_y', 'type1',\n",
       "       'type2', 'type3', 'pa1', 'pa2', 'pa3', 'pa4', 'pa5', 'pa6', 'pa7',\n",
       "       'pa8', 'pa9', 'pa10', 'house', 'dq1', 'dq2', 'dq3', 'dq3_m', 'dq3_f',\n",
       "       'dq4', 'dq5', 'dq6', 'dq8_1', 'dq8_2', 'dq8_3', 'dq8_4', 'dq8_5',\n",
       "       'dq8_6', 'dq8_7', 'sgd1_P', 'sgd2', 'sgd3', 'sgd4', 'sgd5_P', 'sgd6',\n",
       "       'sgd7_P', 'sgd8', 'sgd9', 'sgd10', 'sgd11_P', 'sgd12', 'sgd13_P',\n",
       "       'sgd14', 'sgd15', 'A1', 'A2', 'A3', 'A4', 'A5', 'A6', 'A7', 'A8', 'A9',\n",
       "       'A10', 'A11', 'A12', 'D1', 'D2', 'D3', 'D4', 'D5', 'D6', 'D7', 'D8',\n",
       "       'P_sgd1_P', 'P_sgd2', 'P_sgd3', 'P_sgd4', 'P_sgd5_P', 'P_sgd6',\n",
       "       'P_sgd7_P', 'P_sgd8', 'P_sgd9', 'P_sgd10', 'P_sgd11_P', 'P_sgd12',\n",
       "       'P_sgd13_P', 'P_sgd14', 'P_sgd15', 'p_a1', 'p_a2', 'p_a3', 'p_a4',\n",
       "       'p_a5', 'p_a6', 'p_a7', 'p_a8', 'p_a9', 'p_a10', 'p_a11', 'p_a12',\n",
       "       'p_d1', 'p_d2', 'p_d3', 'p_d4', 'p_d5', 'p_d6', 'P_D7', 'P_D8', 'h1',\n",
       "       'i1', 'i2', 'i3', 'i4', 'i5', 'i6', 'i7', 'i8', 'i9', 'i10', 'j1', 'j2',\n",
       "       'j3', 'j4', 'reli', 'time1', 'time2', 'time3', 'time4', 'time5',\n",
       "       'dq7_1', 'dq7_2', 'dq7_3', 'dq7_4', 'dq7_5', 'dq7_6', 'dq7_7', 'DISE1',\n",
       "       'DISE2', 'DISE3'],\n",
       "      dtype='object')"
      ]
     },
     "execution_count": 580,
     "metadata": {},
     "output_type": "execute_result"
    }
   ],
   "source": [
    "df_merge.columns"
   ]
  },
  {
   "cell_type": "code",
   "execution_count": 581,
   "id": "805c754c",
   "metadata": {},
   "outputs": [
    {
     "data": {
      "text/plain": [
       "(7789, 194)"
      ]
     },
     "execution_count": 581,
     "metadata": {},
     "output_type": "execute_result"
    }
   ],
   "source": [
    "df_merge.shape"
   ]
  },
  {
   "cell_type": "code",
   "execution_count": 588,
   "id": "41102649",
   "metadata": {},
   "outputs": [],
   "source": [
    "df_merge.to_csv('hyundol_1.csv', index=False)"
   ]
  },
  {
   "cell_type": "markdown",
   "id": "f76453ce",
   "metadata": {},
   "source": [
    "* 나머지 (survey 제외)"
   ]
  },
  {
   "cell_type": "code",
   "execution_count": 582,
   "id": "70346574",
   "metadata": {},
   "outputs": [],
   "source": [
    "dfs2 = [df_scc_doll_user, df_scc_doll_option, df_log_doll_gr, df_log_drug, df_ear_gr, df_emergency]"
   ]
  },
  {
   "cell_type": "code",
   "execution_count": 583,
   "id": "b81dc002",
   "metadata": {},
   "outputs": [],
   "source": [
    "# 한번에 merge\n",
    "df_merge2 = reduce(lambda left, right: pd.merge(left, right, on='id', how='left'), dfs2)"
   ]
  },
  {
   "cell_type": "code",
   "execution_count": 585,
   "id": "9c7c7db9",
   "metadata": {},
   "outputs": [
    {
     "data": {
      "text/plain": [
       "(7789, 60)"
      ]
     },
     "execution_count": 585,
     "metadata": {},
     "output_type": "execute_result"
    }
   ],
   "source": [
    "df_merge2.shape"
   ]
  },
  {
   "cell_type": "code",
   "execution_count": 584,
   "id": "7901bc93",
   "metadata": {},
   "outputs": [
    {
     "data": {
      "text/plain": [
       "Index(['id', 'host_user_id', 'sex', 'birthday', 'religion', 'wakeup',\n",
       "       'breakfast', 'lunch', 'dinner', 'sleep', 'drug_option',\n",
       "       'ventilation_walk', 'disease', 'is_resign', 'agency_code',\n",
       "       'agency_name', 'connection_type', 'no_alarm', 'custom_timer_cnt',\n",
       "       'religion_alarm', 'right_ear_function', 'left_ear_function', 'l_stroke',\n",
       "       'l_hand_hold', 'l_knock', 'l_human_detection', 'l_gymnastics',\n",
       "       'l_brain_timer', 'l_days', 'l_m_stroke', 'l_m_hand', 'l_m_knock',\n",
       "       'l_m_human', 'l_m_gymnastics', 'l_m_brain', 'c_consume', 'c_freq',\n",
       "       'c_days', 'c_m_consume', 'e_story', 'e_religion', 'e_music',\n",
       "       'e_english', 'e_remembrance', 'e_quiz', 'e_gymnastics',\n",
       "       'e_classic_music', 'e_religion_music', 'e_days', 'e_m_story',\n",
       "       'e_m_religion', 'e_m_music', 'e_m_english', 'e_m_remembrance',\n",
       "       'e_m_quiz', 'e_m_gymnastics', 'e_m_classic', 'call_confirm',\n",
       "       'call_days', 'call_m_confirm'],\n",
       "      dtype='object')"
      ]
     },
     "execution_count": 584,
     "metadata": {},
     "output_type": "execute_result"
    }
   ],
   "source": [
    "df_merge2.columns"
   ]
  },
  {
   "cell_type": "code",
   "execution_count": 587,
   "id": "294624ed",
   "metadata": {},
   "outputs": [],
   "source": [
    "df_merge2.to_csv('hyundol_2.csv', index=False)"
   ]
  },
  {
   "cell_type": "code",
   "execution_count": null,
   "id": "dbd08c6c",
   "metadata": {},
   "outputs": [],
   "source": []
  }
 ],
 "metadata": {
  "kernelspec": {
   "display_name": "Python 3",
   "language": "python",
   "name": "python3"
  },
  "language_info": {
   "codemirror_mode": {
    "name": "ipython",
    "version": 3
   },
   "file_extension": ".py",
   "mimetype": "text/x-python",
   "name": "python",
   "nbconvert_exporter": "python",
   "pygments_lexer": "ipython3",
   "version": "3.9.4"
  },
  "toc": {
   "base_numbering": 1,
   "nav_menu": {},
   "number_sections": true,
   "sideBar": true,
   "skip_h1_title": false,
   "title_cell": "Table of Contents",
   "title_sidebar": "Contents",
   "toc_cell": false,
   "toc_position": {
    "height": "calc(100% - 180px)",
    "left": "10px",
    "top": "150px",
    "width": "243px"
   },
   "toc_section_display": true,
   "toc_window_display": true
  }
 },
 "nbformat": 4,
 "nbformat_minor": 5
}
